{
 "cells": [
  {
   "cell_type": "markdown",
   "metadata": {
    "id": "IDioXxCpAYvd"
   },
   "source": [
    "<div id=\"capcalera\">\n",
    "<p >Aquest notebook complementa els continguts teòrics de l'assignatura d'<strong>Algorísmica</strong> del Grau d'Enginyeria Informàtica a la <a href=\"https://mat.ub.edu\">Facultat de Matemàtiques i Informàtica</a> de la <a href=\"https://www.ub.edu\">Universitat de Barcelona</a></p>\n",
    "\n",
    "<p>Els problemes s'ofereixen sota llicència <a href=\"https://creativecommons.org/licenses/by-nc-nd/3.0/us/legalcode\">CC-BY-NC-ND license</a>, i el codi sota <a href=\"https://opensource.org/licenses/MIT\">Llicència MIT</a>.</p>\n",
    "\n",
    "</div>"
   ]
  },
  {
   "cell_type": "code",
   "execution_count": null,
   "metadata": {},
   "outputs": [],
   "source": [
    "from typing import Any\n"
   ]
  },
  {
   "cell_type": "markdown",
   "metadata": {
    "id": "dJvkvLujAYvi"
   },
   "source": [
    "# Python: Entrada (Input) i Sortida (Output)"
   ]
  },
  {
   "cell_type": "markdown",
   "metadata": {
    "id": "YCaIhV3SAYvj"
   },
   "source": [
    "## Input: \n",
    "Per demanar dades a l’usuari s’usa input(‘Text a mostrar:’).\n",
    "\n",
    "### Documentació Python de referència\n",
    "\n",
    "- https://docs.python.org/3/library/functions.html?#input***"
   ]
  },
  {
   "cell_type": "code",
   "execution_count": null,
   "metadata": {
    "id": "_4aSZA7QAYvk",
    "outputId": "9737e4c4-5e8f-4d8b-e539-7ff7e7c7020b"
   },
   "outputs": [],
   "source": [
    "# Exemple\n",
    "nom: str = input(\"Digues-me el teu nom:\")\n",
    "print(nom)"
   ]
  },
  {
   "cell_type": "markdown",
   "metadata": {
    "id": "QQiptcR-AYvm"
   },
   "source": [
    "Per defecte el valor entrat serà una cadena de caràcters. Si volem canviar el tipus caldrà indicar el tipus que volem usar."
   ]
  },
  {
   "cell_type": "code",
   "execution_count": null,
   "metadata": {
    "id": "ricj3-jNAYvn",
    "outputId": "7053b702-559b-40ab-cf5b-7b6384a67195"
   },
   "outputs": [],
   "source": [
    "# Exemple\n",
    "edat: int = int(input(\"Digues-me la teva edat:\"))\n",
    "print(edat)\n",
    "print(type(edat))"
   ]
  },
  {
   "cell_type": "code",
   "execution_count": null,
   "metadata": {
    "id": "L1lRyC4uAYvn",
    "outputId": "9c91cfbf-3706-4c33-a12c-ed3f677d8d3c"
   },
   "outputs": [],
   "source": [
    "# Exemple 2\n",
    "descompte: float = float(input(\"Digues-me quin descompte vols per les rebaixes (per ex. 0.2 és un 20%) \"))\n",
    "print(descompte * 100, \"%\")\n",
    "print(type(descompte))"
   ]
  },
  {
   "cell_type": "code",
   "execution_count": null,
   "metadata": {
    "id": "d3BOrZ1fAYvo",
    "outputId": "ec2bda2a-f193-46d8-f7bf-b89f60920ef6"
   },
   "outputs": [],
   "source": [
    "# Exemple 3\n",
    "x: Any = eval(input(\"Entra un valor\"))\n",
    "#eval avalua l'entrada i fa que el tipus sigui l'adient\n",
    "print(x)\n",
    "type(x)"
   ]
  },
  {
   "cell_type": "markdown",
   "metadata": {
    "id": "aS6xbNbUAYvp"
   },
   "source": [
    "També podem demanar dues o més dades alhora amb una assignació múltiple i separant l'entrada amb una coma si usem <cite>eval</cite>. Però en aquest cas, si el que entrem és una paraula ha d'anar entre cometes, perquè altrament Python es pensa que és una variable."
   ]
  },
  {
   "cell_type": "code",
   "execution_count": null,
   "metadata": {
    "id": "tdUVFzMhAYvq"
   },
   "outputs": [],
   "source": [
    "# Exemple\n",
    "nom, cognom1, cognom2 = eval(input(\"Digues-me el teu nom i cognoms \\\n",
    "separant-los per comes, per ex. 'Anna', 'Cendra', 'Fuster':\"))\n",
    "print(nom)\n",
    "print(cognom1)\n",
    "print(cognom2)"
   ]
  },
  {
   "cell_type": "markdown",
   "metadata": {
    "id": "YLqV4n5zAYvr"
   },
   "source": [
    "## Output: \n",
    "Per mostrar dades a l'usuari s'utilitza print(text o valors a mostrar).\n",
    "\n",
    "***Nota: pots trobar més informació sobre print a la documentació de Python: ***\n",
    "- Formatted string literals [https://docs.python.org/3/reference/lexical_analysis.html#f-strings](https://docs.python.org/3/reference/lexical_analysis.html#f-strings)\n",
    "- Input and Output [https://docs.python.org/3/tutorial/inputoutput.html](https://docs.python.org/3/tutorial/inputoutput.html)"
   ]
  },
  {
   "cell_type": "code",
   "execution_count": null,
   "metadata": {
    "id": "SukjJXfFAYvr",
    "outputId": "e0e6fca1-9ea6-4227-c87f-d2841e898853"
   },
   "outputs": [],
   "source": [
    "# Exemple\n",
    "nom: str = \"Jordi\"\n",
    "print(nom)"
   ]
  },
  {
   "cell_type": "markdown",
   "metadata": {
    "id": "SRr-ksL-AYvr"
   },
   "source": [
    "Amb Python 3 els arguments de print sempre han d'anar entre parèntesi, i poden consistir en literals (nombres o textos directament), variables o operacions"
   ]
  },
  {
   "cell_type": "code",
   "execution_count": null,
   "metadata": {
    "id": "89GwfdoAAYvs",
    "outputId": "b37d4ad9-c088-4ae8-ce9b-311379d8710f"
   },
   "outputs": [],
   "source": [
    "# Exemple\n",
    "edat: int = 14\n",
    "nom: str = \"alex\"\n",
    "print(\"pere\")\n",
    "print(17)\n",
    "print(nom)\n",
    "print(edat)\n",
    "print(17 - 2)\n",
    "print(edat + 4)\n",
    "print(nom + nom)"
   ]
  },
  {
   "cell_type": "markdown",
   "metadata": {
    "id": "Y9Ft0Jo7AYvs"
   },
   "source": [
    "Cada \"print\" ocuparà una línia nova a la sortida, però podem ajuntar diversos valors en un únic print sense operar-los, amb una coma."
   ]
  },
  {
   "cell_type": "code",
   "execution_count": null,
   "metadata": {
    "id": "5PDeulsmAYvt",
    "outputId": "8491d3c5-f98c-4b37-ef77-369ea844475d"
   },
   "outputs": [],
   "source": [
    "# Exemple\n",
    "edat: int = 14\n",
    "nom: str = \"alex\"\n",
    "print(nom, edat)"
   ]
  },
  {
   "cell_type": "markdown",
   "metadata": {
    "id": "RdJF7V05AYvt"
   },
   "source": [
    "També podem usar el print amb format **print(f...)** per incloure valors de variables dins una frase o provocar que el següent print es faci a la mateixa línia."
   ]
  },
  {
   "cell_type": "code",
   "execution_count": 1,
   "metadata": {
    "id": "JUN2wKVjAYvt",
    "outputId": "26f431db-e4cb-4953-e550-f2729685c2a6"
   },
   "outputs": [
    {
     "name": "stdout",
     "output_type": "stream",
     "text": [
      "L' alex té 18 anys\n",
      "L'edat de l'alex és: 18\n"
     ]
    }
   ],
   "source": [
    "# Exemple\n",
    "edat: int = 18\n",
    "nom: str = \"alex\"\n",
    "print(f\"L' {nom} té {edat} anys\")  # les variables les hem de posar entre {}\n",
    "print(f\"L'edat de l'{nom} és: \", end = \"\")  #amb end = \"\" fem que no salti línea\n",
    "print(edat)"
   ]
  },
  {
   "cell_type": "markdown",
   "metadata": {
    "id": "k3Eh_nLoAYvu"
   },
   "source": [
    "## Exercici 1: Esport\n",
    "\n",
    "Fes una funció que et demani dades del teu esport, joc o app preferida i les mostri a la pantalla amb elegància. Les dades han d'incloure com a mínim un text, un nombre i un booleà."
   ]
  },
  {
   "cell_type": "code",
   "execution_count": 2,
   "metadata": {},
   "outputs": [
    {
     "name": "stdout",
     "output_type": "stream",
     "text": [
      "T'agrada el Fortnite que té 456 jugadors i té microtransaccions: True\n"
     ]
    }
   ],
   "source": [
    "def joc(game:str,nombre:int,bol:bool):\n",
    "    print(f\"T'agrada el {game} que té {nombre} jugadors i té microtransaccions: {bol}\")\n",
    "joc(\"Fortnite\",456,True)"
   ]
  },
  {
   "cell_type": "markdown",
   "metadata": {
    "id": "9gQE176xAYvu"
   },
   "source": [
    "## Exercici 2: Distància euclidiana\n",
    "\n",
    "Escriu una funció, ``magnitude``, que accepti dos punts i calculi la distància euclidiana entre ells, $d= \\sqrt{(x_2-x_1)^2+(y_2-y_1)^2}$"
   ]
  },
  {
   "cell_type": "code",
   "execution_count": 8,
   "metadata": {},
   "outputs": [
    {
     "name": "stdout",
     "output_type": "stream",
     "text": [
      "distancia = 2.23606797749979\n"
     ]
    }
   ],
   "source": [
    "import math\n",
    "def magnitude(x:int,y:int):\n",
    "    d= math.sqrt((x-0)**2+(y-0)**2)\n",
    "    print(f\"distancia = {d}\")\n",
    "magnitude(1,2)"
   ]
  }
 ],
 "metadata": {
  "colab": {
   "name": "Fitxers.ipynb",
   "provenance": []
  },
  "kernelspec": {
   "display_name": "Python 3",
   "language": "python",
   "name": "python3"
  },
  "language_info": {
   "codemirror_mode": {
    "name": "ipython",
    "version": 3
   },
   "file_extension": ".py",
   "mimetype": "text/x-python",
   "name": "python",
   "nbconvert_exporter": "python",
   "pygments_lexer": "ipython3",
   "version": "3.11.1"
  }
 },
 "nbformat": 4,
 "nbformat_minor": 4
}
