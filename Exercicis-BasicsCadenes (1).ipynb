{
 "cells": [
  {
   "cell_type": "markdown",
   "metadata": {
    "id": "xxa91U-8-lXr"
   },
   "source": [
    "# Cadenes (strings)"
   ]
  },
  {
   "cell_type": "markdown",
   "metadata": {
    "id": "3DQLsVV--lXt"
   },
   "source": [
    "## Exercici 1: Tallar cadena amb slicing\n",
    "\n",
    "Escriu una funció que donats una cadena i un nombre $n <<$ longitud de la cadena, retorni la cadena sense els primers $n$ caràcters i sense els darrers $n$ caràcters.\n",
    "\n",
    "Font: Adaptat de [Python praktikum / Alessandro Mammana](https://www.molgen.mpg.de/3372238/python_praesentation.pdf)"
   ]
  },
  {
   "cell_type": "code",
   "execution_count": 8,
   "metadata": {},
   "outputs": [
    {
     "name": "stdout",
     "output_type": "stream",
     "text": [
      "para\n",
      "raula\n",
      "ra\n"
     ]
    }
   ],
   "source": [
    "# Recordem el funcionament d'slicing:\n",
    "\n",
    "cadena:str = \"paraula\"\n",
    "print(cadena[:-3])\n",
    "print(cadena[2:])\n",
    "print(cadena[2:4])"
   ]
  },
  {
   "cell_type": "code",
   "execution_count": 13,
   "metadata": {},
   "outputs": [
    {
     "name": "stdout",
     "output_type": "stream",
     "text": [
      "ag\n"
     ]
    }
   ],
   "source": [
    "def slicing(cadena,n):\n",
    "    print(cadena[n:-n])\n",
    "slicing(\"papagayo\",3)"
   ]
  },
  {
   "cell_type": "markdown",
   "metadata": {
    "id": "ucG9bQQM-lXt"
   },
   "source": [
    "## Exercici 2: Slicing i conversió\n",
    "\n",
    "Imagina que tens la següent cadena:\n",
    "\n",
    "text = 'X-DSPAM-Confidence:0.8475'\n",
    "\n",
    "Retalla-la pels dos punts amb `split`, agafa la darrera part i usa la funció `float()` per convertir la segona part en un nombre decimal.\n",
    "\n",
    "Font: Adaptat de [Python for Everybody / Charles Severance](https://books.trinket.io/pfe/index.html)"
   ]
  },
  {
   "cell_type": "code",
   "execution_count": 9,
   "metadata": {},
   "outputs": [
    {
     "name": "stdout",
     "output_type": "stream",
     "text": [
      "['p', 'r', 'ul', '']\n"
     ]
    }
   ],
   "source": [
    "# split crea una llista de les parts de la cadena, separades per el que indiquem\n",
    "cadena:str = \"paraula\"\n",
    "print(cadena.split(\"a\"))"
   ]
  },
  {
   "cell_type": "code",
   "execution_count": 10,
   "metadata": {},
   "outputs": [
    {
     "name": "stdout",
     "output_type": "stream",
     "text": [
      "2 2.0\n"
     ]
    }
   ],
   "source": [
    "# podem canviar de tipus indicant-ho de manera explícita\n",
    "num:int = 2\n",
    "decimal:float = float(num)\n",
    "print(num, decimal)"
   ]
  },
  {
   "cell_type": "code",
   "execution_count": 19,
   "metadata": {},
   "outputs": [
    {
     "name": "stdout",
     "output_type": "stream",
     "text": [
      "['X-DSPAM-Confidence', '0.8475']\n",
      "0.8475\n"
     ]
    }
   ],
   "source": [
    "def slicing_conversio(text):\n",
    "    split = text.split(\":\")\n",
    "    numero = float(text[-6:])\n",
    "    print(split)\n",
    "    print(numero)\n",
    "slicing_conversio(\"X-DSPAM-Confidence:0.8475\")"
   ]
  },
  {
   "cell_type": "markdown",
   "metadata": {
    "id": "RbeY0luT-lXu"
   },
   "source": [
    "## Exercici 3: Mètodes de string\n",
    "\n",
    "Llegeix la documentació sobre els [mètodes de string](https://docs.python.org/3/library/stdtypes.html#str). Inventa't dues cadenes i experimenta amb algun dels mètodes per assegurar-te que entens com funcionen. ``str.strip`` i ``str.replace`` són particularment útils.\n",
    "\n",
    "La documentació fa servir una sintaxi que pot resulta confusa. Per exemple, a ``find(sub[, start[, end]])``, els claudators indiquen que els arguments són opcionals, per tant, sub és necessari però start és optional, i si inclous start, end és opcional.\n",
    "\n",
    "    \n",
    "Font: Adaptat de [Python for Everybody / Charles Severance](https://books.trinket.io/pfe/index.html)"
   ]
  },
  {
   "cell_type": "markdown",
   "metadata": {
    "id": "k7gJxSOb-lXv"
   },
   "source": [
    "## Exercici 4: Generador de passwords\n",
    "\n",
    "Escriu una funció que generi passwords. La generació ha de ser aleatòria i ha de generar un password nou a cada execució. L'usuari ha de determinar la llargada del password.\n",
    "\n",
    "Per a generar el password pots usar la funció random.sample que agafa tantes mostres (caràcters) d'una cadena com se li indica. Després pots usar join per ajuntar tot en el password final. Et mostrem alguns exemples.\n",
    "    \n",
    "Font: Adaptat de [Practice Python. Beginner Python exercises / Michele Pratusevich](http://www.practicepython.org)"
   ]
  },
  {
   "cell_type": "code",
   "execution_count": 12,
   "metadata": {},
   "outputs": [
    {
     "name": "stdout",
     "output_type": "stream",
     "text": [
      "aabbzzzzzz\n",
      "['e', 'x', 'l', 'c', 's']\n"
     ]
    }
   ],
   "source": [
    "llista:list[str] = [\"aa\", \"bb\", \"zzzzzz\"]\n",
    "tot_junt:str = \"\".join(llista)\n",
    "print(tot_junt)\n",
    "\n",
    "import random\n",
    "s:str = \"abcdefghijklmnstuvxyz\"\n",
    "caracters:list[str] = random.sample(s, 5)\n",
    "print(caracters)"
   ]
  },
  {
   "cell_type": "code",
   "execution_count": 37,
   "metadata": {},
   "outputs": [
    {
     "name": "stdin",
     "output_type": "stream",
     "text": [
      "Escriu la llargada de la contrasenya 20\n"
     ]
    },
    {
     "name": "stdout",
     "output_type": "stream",
     "text": [
      "uDzNZPQ;T2EBMgqSc?H¡\n"
     ]
    }
   ],
   "source": [
    "import random\n",
    "\n",
    "def password_generator():\n",
    "    s:str = \"abcdefghijklmnopqrstustuvxyz123456789ABCDEFGHIJKLMNOPQRSTUVXYZ!¡¿'?çÇ-:;,._\"\n",
    "    n = int(input(\"Escriu la llargada de la contrasenya\"))\n",
    "    chars = random.sample(s,n)\n",
    "    password = \"\".join(chars)\n",
    "    print(password)\n",
    "password_generator()"
   ]
  },
  {
   "cell_type": "code",
   "execution_count": null,
   "metadata": {},
   "outputs": [],
   "source": []
  }
 ],
 "metadata": {
  "colab": {
   "name": "BasicsCadenes.ipynb",
   "provenance": []
  },
  "kernelspec": {
   "display_name": "Python 3 (ipykernel)",
   "language": "python",
   "name": "python3"
  },
  "language_info": {
   "codemirror_mode": {
    "name": "ipython",
    "version": 3
   },
   "file_extension": ".py",
   "mimetype": "text/x-python",
   "name": "python",
   "nbconvert_exporter": "python",
   "pygments_lexer": "ipython3",
   "version": "3.12.3"
  }
 },
 "nbformat": 4,
 "nbformat_minor": 4
}
