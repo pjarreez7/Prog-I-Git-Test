{
 "cells": [
  {
   "cell_type": "markdown",
   "metadata": {
    "id": "eoaX5Vjx-mJL"
   },
   "source": [
    "<div id=\"capcalera\">\n",
    "    \n",
    "<p>Aquest notebook forma part dels continguts teòrics dels problemes de l'assignatura d'<strong>Algorísmica</strong> del Grau d'Enginyeria Informàtica a la <a href=\"https://mat.ub.edu\">Facultat de Matemàtiques i Informàtica</a> de la <a href=\"https://www.ub.edu\">Universitat de Barcelona</a></p>\n",
    "\n",
    "<p>Els problemes s'ofereixen sota llicència <a href=\"https://creativecommons.org/licenses/by-nc-nd/3.0/us/legalcode\">CC-BY-NC-ND license</a>, i el codi sota <a href=\"https://opensource.org/licenses/MIT\">Llicència MIT</a>.</p>\n",
    "\n",
    "</div>"
   ]
  },
  {
   "cell_type": "markdown",
   "metadata": {
    "id": "jYhRWYkz-mJS"
   },
   "source": [
    "# <span class=\"tema\">(Bàsics Python)</span> Llistes"
   ]
  },
  {
   "cell_type": "markdown",
   "metadata": {
    "id": "a8cXr3fa-mJW"
   },
   "source": [
    "Les solucions a aquests exercicis són al fitxer BasicsLListes-Solucio.ipynb"
   ]
  },
  {
   "cell_type": "markdown",
   "metadata": {
    "id": "1zoIKQ6I-mJg"
   },
   "source": [
    "## Exercici 1: LLista de zeros\n",
    "\n",
    "Escriu una funció que donat un nombre $n$ crei una llista amb n zeros. No pots fer cap iteració.\n",
    "\n",
    "Exemple:\n",
    "\n",
    "    zeros(4)\n",
    "    [0, 0, 0, 0]\n",
    "\n",
    "Font: Adaptat de [Python praktikum / Alessandro Mammana](https://www.molgen.mpg.de/3372238/python_praesentation.pdf)"
   ]
  },
  {
   "cell_type": "code",
   "execution_count": 8,
   "metadata": {},
   "outputs": [
    {
     "name": "stdout",
     "output_type": "stream",
     "text": [
      "[0, 0, 0, 0, 0]\n"
     ]
    }
   ],
   "source": [
    "def zeros(n:int):\n",
    "    llista = [0]*n\n",
    "    print(llista)\n",
    "zeros(5)"
   ]
  },
  {
   "cell_type": "markdown",
   "metadata": {
    "id": "pvHHkAj0-mJi"
   },
   "source": [
    "## Exercici 2: LLista selectiva\n",
    "\n",
    "Escriu una funció que donat un nombre $n$ i una llista, retorni una segona llista amb els elements de la llista inicials que són estrictament menors al nombre $n$ donat. \n",
    "\n",
    "Exemple:\n",
    "\n",
    "    llista_selectiva([1, 15, 5, 3, 2, 12, 99, 8, 6], 10)\n",
    "    [1, 5, 3, 2, 8, 6]\n",
    "\n",
    "Font: Adaptat de [Practice Python. Beginner Python exercises / Michele Pratusevich](http://www.practicepython.org)"
   ]
  },
  {
   "cell_type": "code",
   "execution_count": 11,
   "metadata": {},
   "outputs": [
    {
     "name": "stdout",
     "output_type": "stream",
     "text": [
      "[1, 2, 6, 4, 3, 6]\n"
     ]
    }
   ],
   "source": [
    "def llista_selectiva(n:int,llista1:list):\n",
    "    llista2= []\n",
    "    for i in llista1:\n",
    "        if i < n:\n",
    "            llista2.append(i)\n",
    "    print(llista2)\n",
    "llista_selectiva(7,[1,2,6,4,3,10,6,11])"
   ]
  },
  {
   "cell_type": "markdown",
   "metadata": {
    "id": "T1vvms2v-mJj"
   },
   "source": [
    "## Exercici 3: LLista selectiva ordenada\n",
    "\n",
    "Aquest exercici requereix coneixements d'*ordenació i cerca*.\n",
    "\n",
    "Escriu una funció que donat un nombre $n$ i una llista ordenada, retorni una segona llista amb els elements de la llista inicials que són estrictament menors al nombre $n$ donat. \n",
    "\n",
    "Pista: localitza primer el nombre n a la llista, i actúa en conseqüència\n",
    "\n",
    "Exemple:\n",
    "\n",
    "    llista_selectiva([1, 2, 3, 5, 6, 8, 12, 15, 99], 10)\n",
    "    [1, 2, 3, 5, 6, 8]\n",
    "\n",
    "Font: Adaptat de [Practice Python. Beginner Python exercises / Michele Pratusevich](http://www.practicepython.org)"
   ]
  },
  {
   "cell_type": "code",
   "execution_count": 16,
   "metadata": {},
   "outputs": [
    {
     "name": "stdout",
     "output_type": "stream",
     "text": [
      "[1, 2, 3, 5, 6, 8]\n"
     ]
    }
   ],
   "source": [
    "def llista_selectiva(n:int,llista1:list):\n",
    "    llista2= []\n",
    "    for i in llista1:\n",
    "        if i < n:\n",
    "            llista2.append(i)\n",
    "    print(llista2)\n",
    "llista_selectiva(10,[1,2,3,5,6,8,12,15,99])"
   ]
  },
  {
   "cell_type": "markdown",
   "metadata": {
    "id": "oe06YXns-mJk"
   },
   "source": [
    "## Exercici 4: Selecció d'una llista\n",
    "\n",
    "Escriu una funció que donada una llista retorni una tupla amb dues llistes: una amb els elements senars de la llista i l'altra amb els elements parells de la llista. No pots fer cap iteració.\n",
    "\n",
    "Exemple:\n",
    "\n",
    "    llista=[\"un\", 1, \"dos\", 2, \"tres\", 3, \"quatre\", 4]\n",
    "\n",
    "    split_magic(llista)\n",
    "    ([\"un\", \"dos\", \"tres\", \"quatre\"], [1, 2, 3, 4])\n",
    "\n",
    "*Atenció*: la llista pot contenir qualssevol valors\n",
    "\n",
    "Font: Adaptat de [Python praktikum / Alessandro Mammana](https://www.molgen.mpg.de/3372238/python_praesentation.pdf)"
   ]
  },
  {
   "cell_type": "code",
   "execution_count": 33,
   "metadata": {},
   "outputs": [
    {
     "name": "stdout",
     "output_type": "stream",
     "text": [
      "([1, 3, 'un', 'dos', 'tres'], [2, 4])\n"
     ]
    }
   ],
   "source": [
    "def split_magic(llista:list):\n",
    "    llista_parell = []\n",
    "    llista_senar = []\n",
    "    for i in llista:\n",
    "        x = str(i)\n",
    "        if x.isdigit():\n",
    "            if i % 2 == 0:\n",
    "                llista_parell.append(i)\n",
    "            else:\n",
    "                llista_senar.append(i)\n",
    "        elif x == i:\n",
    "            llista_senar.append(i)\n",
    "    llista_final = []\n",
    "    llista_final.append(llista_senar)\n",
    "    llista_final.append(llista_parell)\n",
    "    tupla = tuple(llista_final)\n",
    "    print(tupla)\n",
    "split_magic([1,2,3,4,\"un\",\"dos\",\"tres\"])"
   ]
  },
  {
   "cell_type": "markdown",
   "metadata": {
    "id": "cElFzSqo-mJl"
   },
   "source": [
    "## Exercici 5: Matriu\n",
    "\n",
    "Escriu una funció que donats dos nombres $nfiles$ i $ncolumnes$ retorni una matriu de zeros amb nfiles files i ncolumnes columnes. Cal crear la matriu com una llista de llistes.\n",
    "\n",
    "Exemple:\n",
    "\n",
    "    generar_matriu(2, 4)\n",
    "    [[0, 0, 0, 0], [0, 0, 0, 0])\n",
    "\n",
    "Font: Adaptat de [Python praktikum / Alessandro Mammana](https://www.molgen.mpg.de/3372238/python_praesentation.pdf)"
   ]
  },
  {
   "cell_type": "code",
   "execution_count": 38,
   "metadata": {},
   "outputs": [
    {
     "name": "stdout",
     "output_type": "stream",
     "text": [
      "[0, 0, 0, 0]\n",
      "[0, 0, 0, 0]\n",
      "[0, 0, 0, 0]\n",
      "[0, 0, 0, 0]\n",
      "[0, 0, 0, 0]\n"
     ]
    }
   ],
   "source": [
    "def crea_matriu_zeros(nfiles, ncolumnes):\n",
    "    return [[0 for _ in range(ncolumnes)] for _ in range(nfiles)]\n",
    "matriu = crea_matriu_zeros(5,4)\n",
    "for fila in matriu:\n",
    "    print(fila)"
   ]
  },
  {
   "cell_type": "markdown",
   "metadata": {
    "id": "_qRy8M5F-mJm"
   },
   "source": [
    "## Exercici 6: Entrada en seqüència i càlculs sobre llistes\n",
    "\n",
    "Escriu un programa que demani un número a l'usuari repetidament fins que aquest introdueixi -99. Quan hagi acabat d'introduir els números mostra per pantalla la suma dels nombres introduits, quants nombres s'han introduit i la mitjana aritmètica.\n",
    "\n",
    "Consulta la documentació de Python per si hi ha [funcions estàndards](https://docs.python.org/3.7/library/functions.html) que et puguin ajudar.\n",
    "\n",
    "Exemple:\n",
    "\n",
    "    Introdueix un número: 7\n",
    "    Introdueix un número: 6\n",
    "    Introdueix un número: -1\n",
    "    Introdueix un número: -99\n",
    "    \n",
    "S'han introduit 3 nombres, amb una suma total de 12, i una mitjana aritmètica de 4\n",
    "    \n",
    "\n",
    "*Repte*: T'atreviries a fer el mateix sense usar cap funció de Python?\n",
    "\n",
    "Font: Adaptat de [Python for Everybody / Charles Severance](https://books.trinket.io/pfe/index.html)"
   ]
  },
  {
   "cell_type": "code",
   "execution_count": null,
   "metadata": {},
   "outputs": [
    {
     "name": "stdout",
     "output_type": "stream",
     "text": [
      "3\n",
      "4\n",
      "5\n",
      "-99\n",
      "2\n",
      "5\n",
      "9\n",
      "14\n",
      "S'han introduit 4, amb una suma total de 14, i una mitjana aritmètica de 3.5\n"
     ]
    }
   ],
   "source": [
    "numero = int(input(\"Introdueix un número, -99 per acabar\"))\n",
    "suma = 0\n",
    "llista = []\n",
    "while numero!= -99:\n",
    "    llista.append(numero)\n",
    "    numero = int(input(\"Introdueix un número, -99 per acabar\"))\n",
    "for i in llista:\n",
    "    suma += i\n",
    "introduits = len(llista)\n",
    "mitjana = suma / introduits\n",
    "print(f\"S'han introduit {introduits}, amb una suma total de {suma}, i una mitjana aritmètica de {mitjana}\")\n"
   ]
  },
  {
   "cell_type": "markdown",
   "metadata": {
    "id": "doJaKrTc-mJo"
   },
   "source": [
    "## Exercici 7: Entrada en seqüència i càlculs sobre llistes. Variant\n",
    "\n",
    "Escriu un programa que demani un número a l'usuari repetidament fins que aquest introdueixi -99. Ves recopilant els nombres en una llista. Quan hagi acabat d'introduir els números mostra per pantalla el mínim i el màxim de la llista.\n",
    "\n",
    "Consulta la documentació de Python per si hi ha [funcions estàndards](https://docs.python.org/3.7/library/functions.html) que et puguin ajudar.\n",
    "\n",
    "Exemple:\n",
    "\n",
    "    Introdueix un número: 7\n",
    "    Introdueix un número: 6\n",
    "    Introdueix un número: -1\n",
    "    Introdueix un número: -99\n",
    "    \n",
    "El número màxim introduit és el 7 i el  mínim el -1\n",
    "\n",
    "    \n",
    "Font: Adaptat de [Python for Everybody / Charles Severance](https://books.trinket.io/pfe/index.html)"
   ]
  },
  {
   "cell_type": "code",
   "execution_count": null,
   "metadata": {},
   "outputs": [],
   "source": [
    "numero = int(input(\"Introdueix un número, -99 per acabar\"))\n",
    "valor_maxim=numero\n",
    "valor_minim=numero\n",
    "while numero!= -99:\n",
    "    valor_minim = min(numero,valor_minim)  \n",
    "    numero = int(input(\"Introdueix un número, -99 per acabar\"))\n",
    "    valor_maxim = max(numero,valor_maxim)    \n",
    "print(valor_maxim)\n",
    "print(valor_minim)"
   ]
  },
  {
   "cell_type": "markdown",
   "metadata": {
    "id": "6kEVi5s4-mJu"
   },
   "source": [
    "## Exercici 8: Inici i final d'una llista\n",
    "\n",
    "Escriu un programa que donada una llista en retorni una de nova amb només el primer i el darrer element de la llista.\n",
    "\n",
    "Exemple:\n",
    "\n",
    "    inici_final([3, 6, 1, 9, 10])\n",
    "    [3, 10]\n",
    "    \n",
    "Font: Adaptat de [Practice Python. Beginner Python exercises / Michele Pratusevich](http://www.practicepython.org)"
   ]
  },
  {
   "cell_type": "code",
   "execution_count": 56,
   "metadata": {},
   "outputs": [
    {
     "name": "stdout",
     "output_type": "stream",
     "text": [
      "[6, 7]\n"
     ]
    }
   ],
   "source": [
    "def inici_final(llista:list):\n",
    "    llista_nova = []\n",
    "    llista_nova.append(llista[0])\n",
    "    llista_nova.append(llista[len(llista)-1])\n",
    "    print(llista_nova)\n",
    "inici_final([6,5,1,10,7])"
   ]
  },
  {
   "cell_type": "markdown",
   "metadata": {
    "id": "5dEeK3tV-mJv"
   },
   "source": [
    "## Exercici 9: Canviar les paraules d'ordre\n",
    "\n",
    "Escriu una funció que donada una frase la retorni a l'usuari amb les paraules en ordre invers.\n",
    "\n",
    "Exemple:\n",
    "\n",
    "    Em dic Andreu\n",
    "    Andreu dic Em\n",
    "    \n",
    "Font: Adaptat de [Practice Python. Beginner Python exercises / Michele Pratusevich](http://www.practicepython.org)"
   ]
  },
  {
   "cell_type": "code",
   "execution_count": 68,
   "metadata": {},
   "outputs": [
    {
     "name": "stdout",
     "output_type": "stream",
     "text": [
      "Andreu dic Em\n"
     ]
    }
   ],
   "source": [
    "def frase_reves(frase:str):\n",
    "    llista = frase.split(\" \")\n",
    "    llista = llista[::-1]\n",
    "    frase = \" \".join(llista)\n",
    "    print(frase)\n",
    "frase_reves(\"Em dic Andreu\")"
   ]
  }
 ],
 "metadata": {
  "colab": {
   "name": "BasicsLListes.ipynb",
   "provenance": []
  },
  "kernelspec": {
   "display_name": "Python 3",
   "language": "python",
   "name": "python3"
  },
  "language_info": {
   "codemirror_mode": {
    "name": "ipython",
    "version": 3
   },
   "file_extension": ".py",
   "mimetype": "text/x-python",
   "name": "python",
   "nbconvert_exporter": "python",
   "pygments_lexer": "ipython3",
   "version": "3.11.1"
  }
 },
 "nbformat": 4,
 "nbformat_minor": 4
}
