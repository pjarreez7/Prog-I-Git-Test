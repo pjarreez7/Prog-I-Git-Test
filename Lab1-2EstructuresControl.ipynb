{
 "cells": [
  {
   "cell_type": "markdown",
   "metadata": {
    "id": "KZxjqdoy-ka5"
   },
   "source": [
    "<div id=\"capcalera\">\n",
    "    \n",
    "<p>Aquest notebook forma part dels continguts teòrics dels problemes de l'assignatura d'<strong>Algorísmica</strong> del Grau d'Enginyeria Informàtica a la <a href=\"https://mat.ub.edu\">Facultat de Matemàtiques i Informàtica</a> de la <a href=\"https://www.ub.edu\">Universitat de Barcelona</a></p>\n",
    "\n",
    "<p>Els problemes s'ofereixen sota llicència <a href=\"https://creativecommons.org/licenses/by-nc-nd/3.0/us/legalcode\">CC-BY-NC-ND license</a>, i el codi sota <a href=\"https://opensource.org/licenses/MIT\">Llicència MIT</a>.</p>\n",
    "\n",
    "</div>"
   ]
  },
  {
   "cell_type": "markdown",
   "metadata": {
    "id": "fARDM9qA-ka8"
   },
   "source": [
    "# Exercicis de Python. Control"
   ]
  },
  {
   "cell_type": "markdown",
   "metadata": {
    "id": "8klLSrTi-ka9"
   },
   "source": [
    "## Exercici 1: Mínim i màxim\n",
    "\n",
    "Escriu un programa que demani un número a l'usuari repetidament fins que aquest introdueixi -99. Quan hagi acabat d'introduir els números mostra per pantalla el mínim i el màxim de la llista.\n",
    "\n",
    "Exemple:\n",
    "\n",
    "    Introdueix un número: 7\n",
    "    Introdueix un número: 6\n",
    "    Introdueix un número: -1\n",
    "    Introdueix un número: -99\n",
    "    \n",
    "El número màxim introduit és el 7 i el  mínim el -1\n",
    "\n",
    "    \n",
    "Font: Adaptat de [Python for Everybody / Charles Severance](https://books.trinket.io/pfe/index.html)"
   ]
  },
  {
   "cell_type": "code",
   "execution_count": null,
   "metadata": {},
   "outputs": [],
   "source": [
    "numero = int(input(\"Introdueix un número, -99 per acabar\"))\n",
    "valor_maxim=numero\n",
    "valor_minim=numero\n",
    "while numero!= -99:\n",
    "    valor_minim = min(numero,valor_minim)  \n",
    "    numero = int(input(\"Introdueix un número, -99 per acabar\"))\n",
    "    valor_maxim = max(numero,valor_maxim)    \n",
    "print(valor_maxim)\n",
    "print(valor_minim)"
   ]
  },
  {
   "cell_type": "markdown",
   "metadata": {
    "id": "dMLa8etj-ka-"
   },
   "source": [
    "## Exercici 2: Nombres narcisistes\n",
    "\n",
    "Escriu un programa que verifiqui si un nombre és narcisista. Diem que un nombre és narcisista si és la suma dels seus dígits, cadascun elevat a la potència del nombre de dígits que té.\n",
    "\n",
    "Exemple: 153 és narcisista perquè\n",
    "    $153 = 1^3 + 5^3 + 3^3 = 1 + 125 + 27$\n",
    "    \n",
    "Font: Adaptat de [Checking for Narcissism in Numbers / Vanessa Osuka](https://code.likeagirl.io/algorithm-part-1-checking-for-narcissism-of-a-number-python-cbea596b2790)"
   ]
  },
  {
   "cell_type": "code",
   "execution_count": 5,
   "metadata": {},
   "outputs": [
    {
     "data": {
      "text/plain": [
       "False"
      ]
     },
     "execution_count": 5,
     "metadata": {},
     "output_type": "execute_result"
    }
   ],
   "source": [
    "def narcisista(nombre:int):\n",
    "    numero_como_cadena = str(nombre)\n",
    "    potencia = len(numero_como_cadena)\n",
    "    suma_potencias = 0\n",
    "    for digito in numero_como_cadena:\n",
    "        suma_potencias += int(digito) ** potencia\n",
    "    return suma_potencias == nombre\n",
    "narcisista(143)"
   ]
  },
  {
   "cell_type": "markdown",
   "metadata": {
    "id": "JBoWIaXb-ka_"
   },
   "source": [
    "## Exercici 3: Pedra, paper, tisores\n",
    "\n",
    "Escriu una funcio que permeti a dos jugadors jugar al Pedra-Paper-Tisores. Recorda que:\n",
    "+ La pedra guanya les tisores\n",
    "+ Les tisores guanyen el paper\n",
    "+ El paper guanya la pedra\n",
    "\n",
    "Font: Adaptat de [Practice Python. Beginner Python exercises / Michele Pratusevich](http://www.practicepython.org)"
   ]
  },
  {
   "cell_type": "code",
   "execution_count": null,
   "metadata": {},
   "outputs": [
    {
     "name": "stdout",
     "output_type": "stream",
     "text": [
      "ERROR\n"
     ]
    }
   ],
   "source": [
    "def pedra_paper_tisores():\n",
    "    player1 = input(\"Escull pedra,paper,tisores jugador1: \")\n",
    "    player2= input(\"Escull pedra,paper,tisores jugador2: \")\n",
    "    if player1.upper() == player2.upper():\n",
    "        print(\"Heu empatat\")\n",
    "    elif player1.upper() == \"PEDRA\" and player2.upper() == \"PAPER\":\n",
    "        print(\"Jugador 2 guanya\")\n",
    "    elif player1.upper() == \"TISORES\" and player2.upper() == \"PAPER\":\n",
    "        print(\"Jugador 1 guanya\")\n",
    "    elif player1.upper() == \"PEDRA\" and player2.upper() == \"TISORES\":\n",
    "        print(\"Jugador 1 guanya\")\n",
    "    elif player1.upper() == \"PAPER\" and player2.upper() == \"TISORES\":\n",
    "        print(\"Jugador 2 guanya\")\n",
    "    elif player1.upper() == \"PAPER\" and player2.upper() == \"PEDRA\":\n",
    "        print(\"Jugador 1 guanya\")\n",
    "    elif player1.upper() == \"TISORES\" and player2.upper() == \"PEDRA\":\n",
    "        print(\"Jugador 2 guanya\")\n",
    "    else:\n",
    "        print(\"ERROR\")\n",
    "pedra_paper_tisores()"
   ]
  },
  {
   "cell_type": "markdown",
   "metadata": {
    "id": "3sEn7jJR-kbA"
   },
   "source": [
    "## Exercici 4: Endevina el nombre\n",
    "\n",
    "Genera un nombre aleatori entre 1 i 9 (inclosos). Demana a l'usuari que l'encerti, i digues-li si ha dit un nombre massa petit, massa gran o l'ha encertat. Segueix fins que l'usuari entri el nombre 'exit', i emmagatzema el nombre d'intents de l'usuari, que mostraràs al finalitzar.\n",
    "\n",
    "Font: Adaptat de [Practice Python. Beginner Python exercises / Michele Pratusevich](http://www.practicepython.org)"
   ]
  },
  {
   "cell_type": "code",
   "execution_count": 20,
   "metadata": {},
   "outputs": [
    {
     "name": "stdout",
     "output_type": "stream",
     "text": [
      "numero introduit massa petit\n",
      "Has encertat! el numero random era: 2. Intents: 2\n"
     ]
    }
   ],
   "source": [
    "import random\n",
    "intents = 0\n",
    "numero_random = random.randint(1,9)\n",
    "\n",
    "def endivina_nombre():\n",
    "    intents = 0\n",
    "    sortida = \"\"\n",
    "    while sortida!=\"exit\":\n",
    "        numero_jugador = int(input(\"Introdueix un número del 1 al 9 per encertar el numero aleatori\"))\n",
    "        intents += 1\n",
    "        if numero_jugador < numero_random:\n",
    "            print(\"numero introduit massa petit\")\n",
    "        elif numero_jugador > numero_random:\n",
    "            print(\"numero introduit massa gran\")\n",
    "        else:\n",
    "            print(f\"Has encertat! el numero random era: {numero_random}. Intents: {intents}\")\n",
    "            sortida = input(\"Introdueix exit per sortir\")\n",
    "endivina_nombre()"
   ]
  },
  {
   "cell_type": "markdown",
   "metadata": {},
   "source": [
    "## Exercici 5: Comparant per parelles\n",
    "\n",
    "Escriu una acció que donats quatre nombres comprovi si la suma dels dos primers és més gran que la suma dels dos darrers. Hem de tenir en compte també el cas que siguin iguals! Fes que mostri un missatge diferent en cada cas.\n",
    "\n",
    "Genera tres casos tals que:\n",
    "1. El nombre més gran sigui la suma dels dos primers\n",
    "2. El nombre més gran sigui la suma dels dos darrers\n",
    "3. Els dos primers i els dos darrers sumin el mateix"
   ]
  },
  {
   "cell_type": "code",
   "execution_count": 27,
   "metadata": {},
   "outputs": [
    {
     "name": "stdout",
     "output_type": "stream",
     "text": [
      "La suma dels dos primers nombres és igual a la suma dels dos darrers\n"
     ]
    }
   ],
   "source": [
    "def compara_parelles(nombre1:int,nombre2:int,nombre3:int,nombre4:int):\n",
    "    if nombre1 + nombre2 > nombre3 + nombre4:\n",
    "        print(\"La suma dels dos primers nombres és més gran que la suma dels dos darrers\")\n",
    "    elif nombre1 + nombre2 < nombre3 + nombre4:\n",
    "        print(\"La suma dels dos darrers nombres és més gran que la suma dels dos primers\")\n",
    "    elif nombre1 + nombre2 == nombre3 + nombre4:\n",
    "        print(\"La suma dels dos primers nombres és igual a la suma dels dos darrers\")\n",
    "    else:\n",
    "        print(\"ERROR\")\n",
    "compara_parelles(1,8,5,4)"
   ]
  },
  {
   "cell_type": "markdown",
   "metadata": {},
   "source": [
    "## Exercici 6: Conversió a dolars\n",
    "\n",
    "Escriu una acció que converteixi dolars en euros per a 100, 200, 300... fins a 1000 dolars. Pots inspirar-te en la acció convert que et donem feta. Fes una versió amb for i una versió amb while."
   ]
  },
  {
   "cell_type": "code",
   "execution_count": 30,
   "metadata": {},
   "outputs": [
    {
     "name": "stdout",
     "output_type": "stream",
     "text": [
      "100$ -> 85.0€\n",
      "200$ -> 170.0€\n",
      "300$ -> 255.0€\n",
      "400$ -> 340.0€\n",
      "500$ -> 425.0€\n",
      "600$ -> 510.0€\n",
      "700$ -> 595.0€\n",
      "800$ -> 680.0€\n",
      "900$ -> 765.0€\n",
      "1000$ -> 850.0€\n"
     ]
    }
   ],
   "source": [
    "def convert() -> None:\n",
    "    for i in range (100,1100,100):\n",
    "        print(f\"{i}$ -> {i*0.85}€\")\n",
    "\n",
    "convert()"
   ]
  },
  {
   "cell_type": "code",
   "execution_count": 32,
   "metadata": {},
   "outputs": [
    {
     "name": "stdout",
     "output_type": "stream",
     "text": [
      "100$ -> 85.0€\n",
      "200$ -> 170.0€\n",
      "300$ -> 255.0€\n",
      "400$ -> 340.0€\n",
      "500$ -> 425.0€\n",
      "600$ -> 510.0€\n",
      "700$ -> 595.0€\n",
      "800$ -> 680.0€\n",
      "900$ -> 765.0€\n",
      "1000$ -> 850.0€\n"
     ]
    }
   ],
   "source": [
    "def convert() -> None:\n",
    "    dolars = 100\n",
    "    while dolars < 1100:\n",
    "        print(f\"{dolars}$ -> {dolars*0.85}€\")\n",
    "        dolars +=100\n",
    "convert()"
   ]
  },
  {
   "cell_type": "markdown",
   "metadata": {},
   "source": [
    "Quina estructura t'ha semblat més adient per aquest problema (for o while)? Perquè?"
   ]
  },
  {
   "cell_type": "markdown",
   "metadata": {},
   "source": [
    "## Exercici 7: Suma múltiples de 4 fins a 10000\n",
    "\n",
    "Fes una funció, suma, que sumi tots els nombres naturals menors que 10000 múltiples de 4. En aquesta funció has de fer servir una variable de tipus acumulador que va incrementant-se a cada iteració. Aquest tipus de variables és comú a les iteracions."
   ]
  },
  {
   "cell_type": "code",
   "execution_count": 39,
   "metadata": {},
   "outputs": [
    {
     "data": {
      "text/plain": [
       "12505000"
      ]
     },
     "execution_count": 39,
     "metadata": {},
     "output_type": "execute_result"
    }
   ],
   "source": [
    "\n",
    "def suma_multiples_4():\n",
    "    x: int = 0\n",
    "    for i in range(0,10004,4):\n",
    "        x += i  # x funciona com a acumulador\n",
    "\n",
    "    return(x)\n",
    "suma_multiples_4()"
   ]
  }
 ],
 "metadata": {
  "colab": {
   "name": "BasicsControl.ipynb",
   "provenance": []
  },
  "kernelspec": {
   "display_name": "Python 3",
   "language": "python",
   "name": "python3"
  },
  "language_info": {
   "codemirror_mode": {
    "name": "ipython",
    "version": 3
   },
   "file_extension": ".py",
   "mimetype": "text/x-python",
   "name": "python",
   "nbconvert_exporter": "python",
   "pygments_lexer": "ipython3",
   "version": "3.11.1"
  }
 },
 "nbformat": 4,
 "nbformat_minor": 4
}
