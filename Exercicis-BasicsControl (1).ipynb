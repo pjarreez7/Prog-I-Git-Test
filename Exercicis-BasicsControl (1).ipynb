{
 "cells": [
  {
   "cell_type": "markdown",
   "metadata": {
    "id": "fARDM9qA-ka8"
   },
   "source": [
    "# Estructures de control"
   ]
  },
  {
   "cell_type": "markdown",
   "metadata": {
    "id": "8klLSrTi-ka9"
   },
   "source": [
    "## Exercici 1: Mínim i màxim\n",
    "\n",
    "Escriu un programa que demani un número a l'usuari repetidament fins que aquest introdueixi -99. Quan hagi acabat d'introduir els números mostra per pantalla el mínim i el màxim de la llista.\n",
    "\n",
    "Exemple:\n",
    "\n",
    "    Introdueix un número: 7\n",
    "    Introdueix un número: 6\n",
    "    Introdueix un número: -1\n",
    "    Introdueix un número: -99\n",
    "    \n",
    "El número màxim introduit és el 7 i el  mínim el -1\n",
    "\n",
    "    \n",
    "Font: Adaptat de [Python for Everybody / Charles Severance](https://books.trinket.io/pfe/index.html)"
   ]
  },
  {
   "cell_type": "code",
   "execution_count": null,
   "metadata": {},
   "outputs": [],
   "source": [
    "# Per demanar una entrada a l'usuari usem input\n",
    "\n",
    "a = int(input(\"Introdueix un número, -99 per acabar\"))"
   ]
  },
  {
   "cell_type": "code",
   "execution_count": 4,
   "metadata": {},
   "outputs": [
    {
     "name": "stdout",
     "output_type": "stream",
     "text": [
      "8\n",
      "8\n"
     ]
    }
   ],
   "source": [
    "# Per calcular màxims i mínims tenim les funcions max i min\n",
    "\n",
    "valor_maxim = max(3,8)\n",
    "print(valor_maxim)\n",
    "valor_maxim = max(valor_maxim, 6)\n",
    "print(valor_maxim)"
   ]
  },
  {
   "cell_type": "code",
   "execution_count": 1,
   "metadata": {},
   "outputs": [
    {
     "name": "stdout",
     "output_type": "stream",
     "text": [
      "55\n",
      "0\n"
     ]
    }
   ],
   "source": [
    "numero = int(input(\"Introdueix un número, -99 per acabar\"))\n",
    "valor_maxim=numero\n",
    "valor_minim=numero\n",
    "while numero!= -99:\n",
    "    valor_minim = min(numero,valor_minim)  \n",
    "    numero = int(input(\"Introdueix un número, -99 per acabar\"))\n",
    "    valor_maxim = max(numero,valor_maxim)    \n",
    "print(valor_maxim)\n",
    "print(valor_minim)"
   ]
  },
  {
   "cell_type": "markdown",
   "metadata": {
    "id": "3sEn7jJR-kbA"
   },
   "source": [
    "## Exercici 2: Endevina el nombre\n",
    "\n",
    "Genera un nombre aleatori entre 1 i 9 (inclosos). Demana a l'usuari que l'encerti, i digues-li si ha dit un nombre massa petit, massa gran o l'ha encertat. Segueix fins que l'usuari entri el nombre '-99'.\n",
    "\n",
    "Font: Adaptat de [Practice Python. Beginner Python exercises / Michele Pratusevich](http://www.practicepython.org)"
   ]
  },
  {
   "cell_type": "code",
   "execution_count": 10,
   "metadata": {},
   "outputs": [
    {
     "name": "stdout",
     "output_type": "stream",
     "text": [
      "9\n"
     ]
    }
   ],
   "source": [
    "# pots usar el mètode randint de la llibreria random que genera un int\n",
    "\n",
    "import random\n",
    "print(random.randint(3, 15))  # indiquem valor inicial i final possibles"
   ]
  },
  {
   "cell_type": "code",
   "execution_count": 2,
   "metadata": {},
   "outputs": [
    {
     "name": "stdout",
     "output_type": "stream",
     "text": [
      "numero introduit massa gran\n",
      "numero introduit massa gran\n",
      "Has encertat! el numero random era: 4\n"
     ]
    }
   ],
   "source": [
    "import random\n",
    "numero_random = random.randint(1,9)\n",
    "numero_jugador = int(input(\"Introdueix un número del 1 al 9 per encertar el numero aleatori, -99 per acabar\"))\n",
    "while numero_jugador!=-99:\n",
    "    if numero_jugador < numero_random:\n",
    "        print(\"numero introduit massa petit\")\n",
    "    elif numero_jugador > numero_random:\n",
    "        print(\"numero introduit massa gran\")\n",
    "    else:\n",
    "        print(\"Has encertat! el numero random era:\",numero_random)\n",
    "    numero_jugador = int(input(\"Introdueix un número del 1 al 9 per encertar el numero aleatori, -99 per acabar\"))"
   ]
  },
  {
   "cell_type": "code",
   "execution_count": null,
   "metadata": {},
   "outputs": [],
   "source": []
  }
 ],
 "metadata": {
  "colab": {
   "name": "BasicsControl.ipynb",
   "provenance": []
  },
  "kernelspec": {
   "display_name": "Python 3",
   "language": "python",
   "name": "python3"
  },
  "language_info": {
   "codemirror_mode": {
    "name": "ipython",
    "version": 3
   },
   "file_extension": ".py",
   "mimetype": "text/x-python",
   "name": "python",
   "nbconvert_exporter": "python",
   "pygments_lexer": "ipython3",
   "version": "3.11.1"
  }
 },
 "nbformat": 4,
 "nbformat_minor": 4
}
