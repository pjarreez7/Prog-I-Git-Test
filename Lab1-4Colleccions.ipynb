{
 "cells": [
  {
   "cell_type": "markdown",
   "metadata": {
    "id": "tge_qUJUeGfd"
   },
   "source": [
    "Aquest notebook complementa la teoria de l'assignatura d'<strong>Algorísmica</strong> del Grau d'Enginyeria Informàtica a la <a href=\"https://mat.ub.edu\">Facultat de Matemàtiques i Informàtica</a> de la <a href=\"https://www.ub.edu\">Universitat de Barcelona</a>.</p>\n",
    "\n",
    "<p>Els problemes s'ofereixen sota llicència <a href=\"https://creativecommons.org/licenses/by-nc-nd/3.0/us/legalcode\">CC-BY-NC-ND license</a>, i el codi sota <a href=\"https://opensource.org/licenses/MIT\">Llicència MIT</a>.</p>\n"
   ]
  },
  {
   "cell_type": "code",
   "execution_count": 30,
   "metadata": {},
   "outputs": [],
   "source": [
    "from typing import Any"
   ]
  },
  {
   "cell_type": "markdown",
   "metadata": {
    "id": "DZxpDRPdeGfe"
   },
   "source": [
    "# <span class=\"tema\">(Python)</span> Col·leccions"
   ]
  },
  {
   "cell_type": "markdown",
   "metadata": {
    "id": "ktjpFXeZeGff"
   },
   "source": [
    "## Documentació de Python relacionada\n",
    "\n",
    "- Tutorial 5. Data structures https://docs.python.org/3/tutorial/datastructures.html\n",
    "- Sequence types: list, tuple, range: https://docs.python.org/3/library/stdtypes.html?#sequence-types-list-tuple-range\n",
    "- Mapping types - dict : https://docs.python.org/3/library/stdtypes.html?#mapping-types-dict\n",
    "- Time complexity: https://wiki.python.org/moin/TimeComplexity"
   ]
  },
  {
   "cell_type": "markdown",
   "metadata": {},
   "source": [
    "## Introducció\n",
    "Les col.leccions són estructures de dades que guarden **`conjunts`** de valors. En aquesta assignatura es veuen principalment les llistes, les tuples i els diccionaris."
   ]
  },
  {
   "cell_type": "code",
   "execution_count": 31,
   "metadata": {
    "id": "B7XbGTiLeGfh"
   },
   "outputs": [
    {
     "name": "stdout",
     "output_type": "stream",
     "text": [
      "['gat', 8, True, 0]\n",
      "adeu\n"
     ]
    }
   ],
   "source": [
    "# Exemple\n",
    "llista: list[Any] = [\"gat\", 8, True, 0b000]\n",
    "print(llista)\n",
    "diccionari: dict[int, str] = {1: \"hola\", 2: \"adeu\"}\n",
    "print(diccionari[2])"
   ]
  },
  {
   "cell_type": "markdown",
   "metadata": {},
   "source": [
    "Les llistes són **conjunts** ordenats d'elements. Una llista pot contenir elements de diferents tipus (no és **homogènia**) i els seus elements es poden canviar de manera directa (és **mutable**).\n",
    "\n",
    "Les tuples són molt semblants a les llistes però són **immutables** (és a dir no es poden canviar de manera directa). Aquesta característica imposa certes restriccions en la programació però fa que el seu processament sigui molt més eficient i en molts casos redefinirem una llista com a **`tupla`** per guanyar eficiència. \n",
    "\n",
    "Els **`diccionaris`** són parelles de clau-valor que permeten recuperar un valor a partir de la seva clau de manera molt eficient. El **`diccionari`**, a l'igual que la llista es pot recorrer seqüencialment, però no té un ordre prefixat.\n",
    "\n",
    "Tant les llistes com els **`diccionaris`** actuen com a rang de valors i es poden recorrer en una iteració."
   ]
  },
  {
   "cell_type": "markdown",
   "metadata": {
    "id": "PA4ux9PZeGfm"
   },
   "source": [
    "## Operacions amb col·leccions\n",
    "\n",
    "Cada col.lecció té una manera d'inicialitzar-la, de consultar valors, d'afegir-n'hi, d'esborrar-ne o de recorrer-la."
   ]
  },
  {
   "cell_type": "markdown",
   "metadata": {
    "id": "kcB3BL1leGfm"
   },
   "source": [
    "### Col.lecció *list*"
   ]
  },
  {
   "cell_type": "code",
   "execution_count": 32,
   "metadata": {
    "id": "Uj-Cc23oeGfn"
   },
   "outputs": [
    {
     "name": "stdout",
     "output_type": "stream",
     "text": [
      "[]\n",
      "['cotxe', 4, True]\n",
      "[0, 0, 0, 0, 0, 0, 0, 0, 0, 0]\n",
      "[0, 6, 12, 18, 24, 30, 36]\n",
      "['cotxe', 4, True]\n"
     ]
    }
   ],
   "source": [
    "# Inicialització de la col.lecció list\n",
    "llista1: list[Any] = []\n",
    "llista2: list[Any] = [\"cotxe\", 4, True]\n",
    "llista3: list[Any] = [0] * 10\n",
    "llista4:  list[Any] = [i * 2 for i in range(21) if i % 3 == 0]\n",
    "llista5: list[Any] = llista2\n",
    "print(llista1)\n",
    "print(llista2)\n",
    "print(llista3)\n",
    "print(llista4)\n",
    "print(llista5)"
   ]
  },
  {
   "cell_type": "code",
   "execution_count": 33,
   "metadata": {
    "id": "3rbTpkekeGfq"
   },
   "outputs": [
    {
     "name": "stdout",
     "output_type": "stream",
     "text": [
      "gat\n",
      "True\n",
      "6\n"
     ]
    }
   ],
   "source": [
    "# Consultar valors a la col.lecció list\n",
    "llista: list[Any] = [\"gat\", 8, True, 0b010, 6]\n",
    "print(llista[0])\n",
    "print(llista[2])\n",
    "print(llista[-1])  # començo pel darrera"
   ]
  },
  {
   "cell_type": "code",
   "execution_count": 34,
   "metadata": {
    "id": "9oEzLsp3eGft"
   },
   "outputs": [
    {
     "name": "stdout",
     "output_type": "stream",
     "text": [
      "['gat', 8, True, 0]\n",
      "['gat', 8, True, 0, 'Un altre valor']\n",
      "['gat', 'gos', 8, True, 0, 'Un altre valor']\n"
     ]
    }
   ],
   "source": [
    "# Afegir elements a la col.lecció list\n",
    "llista: list[Any] = [\"gat\", 8, True, 0b000]\n",
    "print(llista)\n",
    "llista.append(\"Un altre valor\")  # amb append el nou element s'afegeix al final\n",
    "print(llista)\n",
    "llista.insert(1, \"gos\")          # amb insert indiquem la posició on afegir-lo\n",
    "print(llista)"
   ]
  },
  {
   "cell_type": "markdown",
   "metadata": {
    "id": "l2ADIQa7eGfw"
   },
   "source": [
    "Com que la llista serà la col.lecció més usada aquest any veurem també l'operació de concatenació i l'slicing, i altres operacions auxiliars que ens resultaran molt útils per a molts algorismes"
   ]
  },
  {
   "cell_type": "markdown",
   "metadata": {
    "id": "umYawL7reGfx"
   },
   "source": [
    "### Còpia de llistes\n",
    "\n",
    "*Atenció*: Quan es fa una còpia d'una col.lecció es fa una còpia per referència (l'etiqueta nova apunta a l'original), i per tant canvis a l'original afectaran al duplicat. \n",
    "\n",
    "Per evitar-ho caldrà crear una nova col.lecció i copiar els elements un a un, amb una iteració o amb slicing el contingut.\n",
    "\n",
    "- list1 = []\n",
    "- list2 = list1           # list 2 sempre valdrà el mateix que list1, és una còpia per referència\n",
    "- list3 = list1[:]        # list 3 ha copiat els continguts de list1, si variem list1, list3 no es veurà afectada\n",
    "\n",
    "Observa el següent codi i digues perquè list2 és diferent de list3"
   ]
  },
  {
   "cell_type": "code",
   "execution_count": 35,
   "metadata": {
    "id": "L6wUKEz7eGfy"
   },
   "outputs": [
    {
     "name": "stdout",
     "output_type": "stream",
     "text": [
      "a original: [1, 2, 3]\n",
      "a modificada: [1, 2, 3, 4]\n",
      "b copiada per referència [1, 2, 3, 4]\n",
      "a original: [1, 2, 3]\n",
      "a modificada: [1, 2, 3, 4]\n",
      "b copiada element a element [[1, 2, 3]]\n"
     ]
    }
   ],
   "source": [
    "# efectes laterals de la còpia per referència\n",
    "a: list[int] = [1, 2, 3]\n",
    "print(\"a original:\", a)\n",
    "b: int = a\n",
    "a.append(4)\n",
    "print(\"a modificada:\", a)\n",
    "print(\"b copiada per referència\", b)\n",
    "# però...\n",
    "a: list[int] = [1, 2, 3]\n",
    "print(\"a original:\", a)\n",
    "b: int = [a[:]]\n",
    "a.append(4)\n",
    "print(\"a modificada:\", a)\n",
    "print(\"b copiada element a element\", b)"
   ]
  },
  {
   "cell_type": "code",
   "execution_count": null,
   "metadata": {
    "id": "R-_j1KXmeGf1"
   },
   "outputs": [],
   "source": [
    "list1: list[int] = []\n",
    "list2: list[int] = list1\n",
    "list3: list[int] = list1[:] # Usant [:] només copiem el contingut. Per tant si modifiquem la list3, la list1\n",
    "                 # no es veurà afectada i viceversa.\n",
    "\n",
    "for i in range(10):\n",
    "    list1.append(i)\n",
    "    \n",
    "print(\"1. \", list1)\n",
    "print(\"2. \", list2)\n",
    "print(\"3. \", list3)"
   ]
  },
  {
   "cell_type": "markdown",
   "metadata": {
    "id": "DtdAQW5BeGf5"
   },
   "source": [
    "#### Concatenació de llistes"
   ]
  },
  {
   "cell_type": "code",
   "execution_count": 36,
   "metadata": {
    "id": "Ra-Y-Mc1eGf5"
   },
   "outputs": [
    {
     "name": "stdout",
     "output_type": "stream",
     "text": [
      "['a', 'b', 'c', 'x', 'y', 'z']\n",
      "['x', 'y', 'z', 'a', 'b', 'c']\n"
     ]
    }
   ],
   "source": [
    "llista1: list[str] = [\"a\", \"b\", \"c\"]\n",
    "llista2: list[str] = [\"x\", \"y\", \"z\"]\n",
    "llista3: list[str] = llista1 + llista2\n",
    "print(llista3)\n",
    "llista4: list[str] = llista2 + llista1\n",
    "print(llista4)"
   ]
  },
  {
   "cell_type": "markdown",
   "metadata": {
    "id": "xoz8snfeeGf8"
   },
   "source": [
    "#### Slicing: o partir la llista en trossos"
   ]
  },
  {
   "cell_type": "code",
   "execution_count": 37,
   "metadata": {
    "id": "5GDFcu1AeGf9"
   },
   "outputs": [
    {
     "name": "stdout",
     "output_type": "stream",
     "text": [
      "['a', 'b', 'c']\n",
      "['c', 'd']\n",
      "['a', 'c', 'e']\n"
     ]
    }
   ],
   "source": [
    "# puc triar una part de la llista indicant el rang de valors que vull\n",
    "# el rang s'indica amb tres valors: start (primer índex que agafo), \n",
    "#                                   stop (darrer índex, no s'hi arriba),\n",
    "#                                   step (salt)\n",
    "llista: list[str] = ['a', 'b', 'c', 'd', 'e', 'f']\n",
    "print(llista[0:3])  #agafo la subllista entre els índexs 0 i 2 (al 3 no hi arribo)\n",
    "print(llista[2:4])  #entre els índexs 2 i 3\n",
    "print(llista[0:5:2]) #entre els índexs 0 i 4 saltant de 2 en 2"
   ]
  },
  {
   "cell_type": "code",
   "execution_count": null,
   "metadata": {
    "id": "tes17Gx8eGf_"
   },
   "outputs": [],
   "source": [
    "# amb un valor negatiu de l'step podem invertir la llista\n",
    "llista: list[str] = ['a', 'b', 'c', 'd', 'e', 'f']\n",
    "print(llista[::-1])"
   ]
  },
  {
   "cell_type": "markdown",
   "metadata": {
    "id": "lPUulTrieGgC"
   },
   "source": [
    "####  Enumerate: amb Enumerate podem recorrer una col.lecció i a més obtenir-ne els índexs"
   ]
  },
  {
   "cell_type": "code",
   "execution_count": 38,
   "metadata": {
    "id": "x-h-u-sWeGgE"
   },
   "outputs": [
    {
     "name": "stdout",
     "output_type": "stream",
     "text": [
      "index  0  lletra  h\n",
      "index  1  lletra  o\n",
      "index  2  lletra  l\n",
      "index  3  lletra  a\n"
     ]
    }
   ],
   "source": [
    "# Exemple\n",
    "\n",
    "word: list[str] = [\"h\", \"o\", \"l\", \"a\"]\n",
    "for i, a in enumerate(word):\n",
    "    print(\"index \", i, \" lletra \", a)"
   ]
  },
  {
   "cell_type": "markdown",
   "metadata": {
    "id": "WIQfdNxWeGgH"
   },
   "source": [
    "#### Altres operacions auxiliars a les llistes"
   ]
  },
  {
   "cell_type": "code",
   "execution_count": 46,
   "metadata": {
    "id": "RhD73CXFeGgH"
   },
   "outputs": [
    {
     "name": "stdout",
     "output_type": "stream",
     "text": [
      "['a', 'b', 'c', 'c', 'r', 'x', 'z']\n"
     ]
    }
   ],
   "source": [
    "llista: list[str] = ['b', 'c', 'x', 'c', 'r', 'a', 'z']\n",
    "llista.sort()      # ordena la llista, no retorna res\n",
    "print(llista)"
   ]
  },
  {
   "cell_type": "code",
   "execution_count": null,
   "metadata": {
    "id": "a8mMTKcWeGgP"
   },
   "outputs": [],
   "source": [
    "llista: list[str] = ['b', 'c', 'x', 'c', 'r', 'a', 'z']\n",
    "llista.reverse()   # inverteix la llista, no retorna res\n",
    "print(llista)"
   ]
  },
  {
   "cell_type": "code",
   "execution_count": null,
   "metadata": {
    "id": "wXxfDhdoeGgR"
   },
   "outputs": [],
   "source": [
    "llista.count('c')  # compta quantes vegades apareix l'element indicat"
   ]
  },
  {
   "cell_type": "code",
   "execution_count": null,
   "metadata": {
    "id": "Q6kJDBP4eGgU"
   },
   "outputs": [],
   "source": [
    "len(llista)        # compta quants elements té la llista"
   ]
  },
  {
   "cell_type": "code",
   "execution_count": null,
   "metadata": {
    "id": "Pi2dprG6eGgX"
   },
   "outputs": [],
   "source": [
    "'b' in llista      # verifica si l'element és a la llista"
   ]
  },
  {
   "cell_type": "markdown",
   "metadata": {
    "id": "DnGyEoCleGga"
   },
   "source": [
    "### <span class=\"exercici\">Exercici 1: El 8 és primer o és darrer?</span>\n",
    "\n",
    "Donada una llista de nombres enters, retornar True si el nombre 8 és el primer element de la llista o és el darrer. Retornar False altrament.\n",
    "\n",
    "Crida la funció amb 4 llistes diferents, dues que retornin True i dues que retornin False."
   ]
  },
  {
   "cell_type": "code",
   "execution_count": 23,
   "metadata": {
    "id": "ACDgvwEOeGgb"
   },
   "outputs": [
    {
     "name": "stdout",
     "output_type": "stream",
     "text": [
      "True\n",
      "True\n",
      "False\n",
      "False\n"
     ]
    }
   ],
   "source": [
    "def primer_darrer_8(llista:list[int]) -> bool:\n",
    "    if llista[0] == 8 or llista[len(llista)-1] == 8:\n",
    "        return True\n",
    "    else:\n",
    "        return False\n",
    "print(primer_darrer_8([8,6,5,7,8]))\n",
    "print(primer_darrer_8([8,6,5,7,3]))\n",
    "print(primer_darrer_8([\"banana\",6,5,7,2]))\n",
    "print(primer_darrer_8([9,6,\"extremo\",7,\"ai\"]))"
   ]
  },
  {
   "cell_type": "markdown",
   "metadata": {
    "id": "9fQJTEbUeGge"
   },
   "source": [
    "### <span class=\"exercici\">Exercici 2: A mig camí</span>\n",
    "\n",
    "Donades dues llistes d'enters, cadascuna de longitud 3, retorna una nova llista que contingui els elements del mig de cada llista.\n",
    "\n",
    "Per exemple:\n",
    "\n",
    "- [4, 5, 6], [7, 8, 9] => [5, 8]\n",
    "- [6, 6, 6], [1, 2, 3] => [6, 2]"
   ]
  },
  {
   "cell_type": "code",
   "execution_count": 58,
   "metadata": {
    "id": "RmKKbk3LeGge"
   },
   "outputs": [
    {
     "name": "stdout",
     "output_type": "stream",
     "text": [
      "[20, 90]\n"
     ]
    }
   ],
   "source": [
    "def a_mig_cami(llista1:list[int], llista2:list[int]) -> None:\n",
    "    llista3 = []\n",
    "    llista3.append(llista1[1])\n",
    "    llista3.append(llista2[1])\n",
    "    print(llista3)\n",
    "\n",
    "    \n",
    "a_mig_cami([5,20,100],[40,90,7])"
   ]
  },
  {
   "cell_type": "markdown",
   "metadata": {
    "id": "6ygoW5-FeGgh"
   },
   "source": [
    "### Col.lecció *Tupla*"
   ]
  },
  {
   "cell_type": "code",
   "execution_count": 47,
   "metadata": {
    "id": "WyMU5MHheGgh"
   },
   "outputs": [
    {
     "name": "stdout",
     "output_type": "stream",
     "text": [
      "('a', 'b', 'c', 'd') ('a', 'b', 'c', 'd') ('a',)\n"
     ]
    }
   ],
   "source": [
    "# Creació\n",
    "tupla1: tuple[str] = 'a', 'b', 'c', 'd'\n",
    "tupla2: tuple[str] = ('a', 'b', 'c', 'd')\n",
    "tupla3: tuple[str] = ('a', )\n",
    "print(tupla1, tupla2, tupla3)"
   ]
  },
  {
   "cell_type": "code",
   "execution_count": 60,
   "metadata": {
    "id": "KGSYvW0QeGgk"
   },
   "outputs": [
    {
     "name": "stdout",
     "output_type": "stream",
     "text": [
      "2\n",
      "(5,)\n",
      "* Conversió de llista a tupla\n",
      "[1, 2, 3]\n",
      "(1, 2, 3)\n",
      "* Conversió de tupla a llista\n",
      "(1, 2, 3)\n",
      "[1, 2, 3]\n"
     ]
    }
   ],
   "source": [
    "# Consulta\n",
    "print(tupla1[0])\n",
    "print(tupla2[1:3])\n",
    "\n",
    "# La resta d'operacions són també similars a les llistes\n",
    "print(\"* Conversió de llista a tupla\")\n",
    "\n",
    "# per convertir una llista en una tupla usem \"tuple\"\n",
    "llista: list[int] = [1, 2, 3]\n",
    "print(llista)\n",
    "t: tuple[int] = tuple(llista)\n",
    "print(t)\n",
    "print(\"* Conversió de tupla a llista\")\n",
    "\n",
    "# per convertir una tupla en una llista usem \"list\"\n",
    "tupla: tuple[int] = (1, 2, 3)\n",
    "print(tupla)\n",
    "l: list[int] = list(tupla)\n",
    "print(l)"
   ]
  },
  {
   "cell_type": "code",
   "execution_count": null,
   "metadata": {
    "id": "yKfmImXyeGgm"
   },
   "outputs": [],
   "source": [
    "# Però atenció, no és possible fer:\n",
    "tupla5: tuple[int] = (1, 2, 3)\n",
    "tupla5[1] = 7  #les tuples són immutables"
   ]
  },
  {
   "cell_type": "markdown",
   "metadata": {
    "id": "Qt-OQnh1eGgp"
   },
   "source": [
    "\n",
    "### <span class=\"exercici\">Exercici 3</span>\n",
    "\n",
    "Fes les operacions necessàries per crear les tuples (2,4), (3,5) i després convertir-les a llistes."
   ]
  },
  {
   "cell_type": "code",
   "execution_count": 61,
   "metadata": {},
   "outputs": [
    {
     "name": "stdout",
     "output_type": "stream",
     "text": [
      "(2, 4) (3, 5)\n",
      "[2, 4] [3, 5]\n"
     ]
    }
   ],
   "source": [
    "tupla1 = (2,4)\n",
    "tupla2 = (3,5)\n",
    "print(tupla1,tupla2)\n",
    "llista1 = list(tupla1)\n",
    "llista2 = list(tupla2)\n",
    "print(llista1,llista2)"
   ]
  },
  {
   "cell_type": "markdown",
   "metadata": {
    "id": "CF6DPnDceGgp"
   },
   "source": [
    "### <span class=\"exercici\">Exercici 4</span>\n",
    "\n",
    "Fes un programa que vagi demanant nombres fins a que l'usuari entri 99 i després els mostri com una tupla."
   ]
  },
  {
   "cell_type": "code",
   "execution_count": 62,
   "metadata": {},
   "outputs": [
    {
     "name": "stdout",
     "output_type": "stream",
     "text": [
      "(1, 2, 3, 4, 5, 6, 7)\n"
     ]
    }
   ],
   "source": [
    "llista = []\n",
    "numero = int(input(\"Escriu un numero, 99 per acabar\"))\n",
    "while numero != 99:\n",
    "    llista.append(numero)\n",
    "    numero = int(input(\"Escriu un numero, 99 per acabar\"))\n",
    "tupla = tuple(llista)\n",
    "print(tupla)"
   ]
  },
  {
   "cell_type": "markdown",
   "metadata": {
    "id": "8fq-KWuKeGgq"
   },
   "source": [
    "### Col.lecció *diccionari*"
   ]
  },
  {
   "cell_type": "code",
   "execution_count": 63,
   "metadata": {
    "id": "fgwa6cRoeGgq"
   },
   "outputs": [
    {
     "name": "stdout",
     "output_type": "stream",
     "text": [
      "{}\n",
      "{'clau1': 1, 3: 4}\n"
     ]
    }
   ],
   "source": [
    "# Inicialització de la col.lecció diccionari\n",
    "dicc1: dict[Any, Any] = {}\n",
    "dicc2: dict[Any, Any] = {\"clau1\": 1, 3: 4}  #inicialitzem amb dues parelles clau-valor clau1-1  i 3-4 (el 3 actua de clau)\n",
    "\n",
    "print(dicc1)\n",
    "print(dicc2)"
   ]
  },
  {
   "cell_type": "code",
   "execution_count": 68,
   "metadata": {
    "id": "79-Ls8RkeGgt"
   },
   "outputs": [
    {
     "name": "stdout",
     "output_type": "stream",
     "text": [
      "1\n",
      "3\n",
      "dict_items([('clau1', 1), ('clau2', 2), ('clau3', 3)])\n",
      "dict_keys(['clau1', 'clau2', 'clau3'])\n",
      "dict_values([1, 2, 3])\n",
      "True\n"
     ]
    }
   ],
   "source": [
    "# Consultar valors a la col.lecció diccionari\n",
    "diccionari: dict[Any, Any] = {\"clau1\": 1, \"clau2\": 2, \"clau3\": 3}\n",
    "print(diccionari[\"clau1\"])\n",
    "print(diccionari[\"clau3\"])\n",
    "print(diccionari.items())     # totes les parelles clau-valor\n",
    "print(diccionari.keys())      # totes les claus\n",
    "print(diccionari.values())    # tots els valors\n",
    "print(\"clau2\" in diccionari)  #verifica si clau2 és una clau"
   ]
  },
  {
   "cell_type": "code",
   "execution_count": 72,
   "metadata": {
    "id": "jfAyKs75eGgw"
   },
   "outputs": [
    {
     "name": "stdout",
     "output_type": "stream",
     "text": [
      "{'clau1': 1, 'clau2': 2, 'clau3': 3}\n"
     ]
    }
   ],
   "source": [
    "# Partint d'aquest diccionari, veurem les operacions bàsiques\n",
    "diccionari: dict[Any, Any] = {\"clau1\": 1, \"clau2\": 2, \"clau3\": 3}\n",
    "print(diccionari)"
   ]
  },
  {
   "cell_type": "code",
   "execution_count": 69,
   "metadata": {
    "id": "h_MRIHHAeGgz"
   },
   "outputs": [
    {
     "name": "stdout",
     "output_type": "stream",
     "text": [
      "{'clau1': 1, 'clau2': 2, 'clau3': 3, 'clau_nova': 9}\n"
     ]
    }
   ],
   "source": [
    "# Afegir\n",
    "diccionari[\"clau_nova\"] = 9  # afegim una parella clau-valor\n",
    "print(diccionari)"
   ]
  },
  {
   "cell_type": "code",
   "execution_count": null,
   "metadata": {
    "id": "1qzup2NyeGg2"
   },
   "outputs": [],
   "source": [
    "# Modificar\n",
    "diccionari[\"clau2\"] = 5  # canviem el valor d'una clau existent\n",
    "print(diccionari)"
   ]
  },
  {
   "cell_type": "code",
   "execution_count": null,
   "metadata": {
    "id": "qEFgavG4eGg5"
   },
   "outputs": [],
   "source": [
    "# Esborrar\n",
    "del diccionari[\"clau3\"]  # esborrem una parella clau-valor existent\n",
    "print(diccionari)"
   ]
  },
  {
   "cell_type": "code",
   "execution_count": null,
   "metadata": {
    "id": "MkymmAR8eGg7"
   },
   "outputs": [],
   "source": [
    "# Esborrar tots els valors\n",
    "diccionari.clear()  # esborrem tots els valors\n",
    "print(diccionari)"
   ]
  },
  {
   "cell_type": "markdown",
   "metadata": {
    "id": "ur0SWLngeGg_"
   },
   "source": [
    "### <span class=\"exercici\">Exercici 5</span>\n",
    "\n",
    "Crea un diccionari amb les equivalències dels símbols de moneda d'Estats Units, Europa i Japó i el seu nom complet. (Atenció: a Windows el símbol del Yen es pot introduir amb la combinació de tecles Alt + 0165)"
   ]
  },
  {
   "cell_type": "code",
   "execution_count": 90,
   "metadata": {},
   "outputs": [
    {
     "name": "stdout",
     "output_type": "stream",
     "text": [
      "{'$': 'Dolar', '€': 'Euro', '¥': 'Yen'}\n"
     ]
    }
   ],
   "source": [
    "diccionari = {\"$\":\"Dolar\",\"€\" : \"Euro\", \"¥\" : \"Yen\"}\n",
    "print (diccionari)"
   ]
  },
  {
   "cell_type": "markdown",
   "metadata": {
    "id": "A2RrIEsGeGhA"
   },
   "source": [
    "### <span class=\"exercici\">Exercici 6</span>\n",
    "\n",
    "Crea un programa que quan l'usuari entri una quantitat de diners amb un símbol la tradueixi al nom complet. Usa el diccionari creat anteriorment.</span>"
   ]
  },
  {
   "cell_type": "code",
   "execution_count": 94,
   "metadata": {},
   "outputs": [
    {
     "name": "stdout",
     "output_type": "stream",
     "text": [
      "1\n",
      "0\n",
      "0\n",
      "0\n",
      "0\n",
      "Euro\n"
     ]
    }
   ],
   "source": [
    "diccionari = {\"$\":\"Dolar\",\"€\" : \"Euro\", \"¥\" : \"Yen\"}\n",
    "quantitat = input(\"Escriu quantitat de diners a introduir amb el simbol de la moneda respectiva\")\n",
    "for char in quantitat:\n",
    "    if char in diccionari:\n",
    "        print(diccionari[char])\n",
    "        break\n",
    "    print(char)"
   ]
  },
  {
   "cell_type": "markdown",
   "metadata": {
    "id": "obpZcSdVecin"
   },
   "source": [
    "## Complexitat (per a Posterior Referència )\n",
    "Per tenir una primera idea del cost de les operacions sobre col.leccions avancem aquí contingut de complexitat.\n",
    "De moment, heu de saber que les operacions amb complexitat O(1) són més eficients que les O(log n) i aquestes més que les O(n).\n",
    "\n",
    "### Col.lecció llista i tupla\n",
    "\n",
    "Cal tenir en compte que tot i que l'ordre de complexitat sigui equivalent en àmbdues col.leccions, la complexitat real és molt menor en les tuples.\n",
    "\n",
    "|Complexitat | Operació|\n",
    "|------------|---------|\n",
    "| O(n) | inicialització|\n",
    "| O(n) | print |\n",
    "| O(1) | consulta [] |\n",
    "| O(1) | .append |\n",
    "| O(n) | .insert  | \n",
    "| O(n+m) | concatenació amb + |\n",
    "| O(n) | slicing |\n",
    "| O(log n) | .sort |\n",
    "| O(n) | .reverse |\n",
    "| O(n) | .count |\n",
    "| O(1) | len |\n",
    "| O(n) | x in llista |\n",
    "\n",
    "(*) amb insert # cal desplaçar tots els altres elements a la dreta\n",
    "\n",
    "### Col.lecció diccionari\n",
    "\n",
    "|Complexitat | Operació|\n",
    "|------------|---------| \n",
    "| O(n) | inicialització |\n",
    "| O(n) | print |\n",
    "| O(1) | consulta [clau] |\n",
    "| O(n) | .keys |\n",
    "| O(n) | .values |\n",
    "| O(1) | x in dicc |\n",
    "| O(1) | afegir  |\n",
    "| O(1) | esborrar |\n",
    "| O(1) | modificar |\n",
    "| O(n) | buidar |"
   ]
  }
 ],
 "metadata": {
  "colab": {
   "collapsed_sections": [],
   "name": "Coleccions.ipynb",
   "provenance": []
  },
  "kernelspec": {
   "display_name": "Python 3",
   "language": "python",
   "name": "python3"
  },
  "language_info": {
   "codemirror_mode": {
    "name": "ipython",
    "version": 3
   },
   "file_extension": ".py",
   "mimetype": "text/x-python",
   "name": "python",
   "nbconvert_exporter": "python",
   "pygments_lexer": "ipython3",
   "version": "3.11.1"
  }
 },
 "nbformat": 4,
 "nbformat_minor": 4
}
