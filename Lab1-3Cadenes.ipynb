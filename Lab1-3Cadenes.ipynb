{
 "cells": [
  {
   "cell_type": "markdown",
   "metadata": {
    "id": "9nL2pZfXPnnj"
   },
   "source": [
    "<div id=\"capcalera\">\n",
    "    \n",
    "<p>Aquest notebook forma part dels continguts teòrics dels problemes de l'assignatura d'<strong>Algorísmica</strong> del Grau d'Enginyeria Informàtica a la <a href=\"https://mat.ub.edu\">Facultat de Matemàtiques i Informàtica</a> de la <a href=\"https://www.ub.edu\">Universitat de Barcelona</a></p>\n",
    "\n",
    "<p>Els problemes s'ofereixen sota llicència <a href=\"https://creativecommons.org/licenses/by-nc-nd/3.0/us/legalcode\">CC-BY-NC-ND license</a>, i el codi sota <a href=\"https://opensource.org/licenses/MIT\">Llicència MIT</a>.</p>\n",
    "\n",
    "</div>"
   ]
  },
  {
   "cell_type": "markdown",
   "metadata": {
    "id": "QrNYVsXEPnno"
   },
   "source": [
    "# Python - Caràcters i cadenes"
   ]
  },
  {
   "cell_type": "markdown",
   "metadata": {
    "id": "CKSNY0svPnnp"
   },
   "source": [
    "## Representació de caràcters\n",
    "\n",
    "### Documentació Python de referència\n",
    "- chr(i): https://docs.python.org/3/library/functions.html?#chr\n",
    "- ord(c): https://docs.python.org/3/library/functions.html?#ord\n",
    "\n",
    "\n",
    "A l’ordinador cada lletra es representa per un codi. El codi més estès és el codi ASCII que cobreix només les lletres A-Z sense accents ni caràcters especials (ç, ñ...). \n",
    "\n",
    "|  Binari | Dec   |Hex   |Representació   |\n",
    "|---|---|---|---|\n",
    "    |  00100000 | 32  | 20 |  Espai en blanc |\n",
    "    |  01000001 | 65  | 41 | A |\n",
    "    |  01000010 | 66  | 42 | B |\n",
    "    |  01000011 | 67  | 43 | C | \n",
    "    |  01000100 | 68  | 44 | D |\n",
    "    |  01000101 | 69  | 45 | E |\n",
    "    |  01000110 | 70  | 46 | F |\n",
    "    |  01000111 | 71  | 47 | G |\n",
    "    |  01001000 | 72  | 48 | H |\n",
    "    |  01001001 | 73  | 49 | I |\n",
    "    |  01001010 | 74  | 4A | J |\n",
    "    |  01001011 | 75  | 4B | K |\n",
    "    |  01001100 | 76  | 4C | L |\n",
    "    |  01001101 | 77  | 4D | M |\n",
    "    |  01001110 | 78  | 4E | N |\n",
    "    |  01001111 | 79  | 4F | O |\n",
    "    |  01010000 | 80  | 50 | P |\n",
    "    |  01010001 | 81  | 51 | Q |\n",
    "    |  01010010 | 82  | 52 | R |\n",
    "    |  01010011 | 83  | 53 | S |\n",
    "    |  01010100 | 84  | 54 | T |\n",
    "    |  01010101 | 85  | 55 | U |\n",
    "    |  01010110 | 86  | 56 | V |\n",
    "    |  01010111 | 87  | 57 | W |\n",
    "    |  01011000 | 88  | 58 | X |\n",
    "    |  01011001 | 89  | 59 | Y |\n",
    "    |  01011010 | 90  | 5A | Z |\n",
    "    \n",
    "    \n",
    "    \n",
    "|  Binari | Dec   |Hex   |Representació   |\n",
    "|---|---|---|---|\n",
    "    |  01011111 | 95  | 5F | - |\n",
    "    |  01100001 | 97  | 61 | a |\n",
    "    |  01100010 | 98  | 62 | b |\n",
    "    |  01100011 | 99  | 63 | c |\n",
    "    |  01100100 | 100 | 64 | d | \n",
    "    |  01100101 | 101 | 65 | e |\n",
    "    |  01100110 | 102 | 66 | f |\n",
    "    |  01100111 | 103 | 67 | g |\n",
    "    |  01101000 | 104 | 68 | h |\n",
    "    |  01101001 | 105 | 69 | i |\n",
    "    |  01101010 | 106 | 6A | j |\n",
    "    |  01101011 | 107 | 6B | k |\n",
    "    |  01101100 | 108 | 6C | l |\n",
    "    |  01101101 | 109 | 6D | m |\n",
    "    |  01101110 | 110 | 6E | n |\n",
    "    |  01111111 | 111 | 6F | o |\n",
    "    |  01110000 | 112 | 70 | p |\n",
    "    |  01110001 | 113 | 71 | q |\n",
    "    |  01110010 | 114 | 72 | r |\n",
    "    |  01110011 | 115 | 73 | s |\n",
    "    |  01110100 | 116 | 74 | t |\n",
    "    |  01110101 | 117 | 75 | u |\n",
    "    |  01110110 | 118 | 76 | v |\n",
    "    |  01110111 | 119 | 77 | w |\n",
    "    |  01111000 | 120 | 78 | x |\n",
    "    |  01111001 | 121 | 79 | y |\n",
    "    |  01111010 | 122 | 7A | z |\n",
    "    \n",
    "Uns altres codis, molt més complets i que cada cop es fa servir més són els codis UNICODE i UTF8 que cobreixen totes les lletres de totes les llengües escrites del món. En aquests dos codis les lletres de la a a la z i de la A a la Z es codifiquen igual que en ASCII.\n",
    "\n",
    "Per convertir del codi al caràcter i viceversa usem les funcions chr i ord."
   ]
  },
  {
   "cell_type": "code",
   "execution_count": null,
   "metadata": {
    "id": "BaXzPDcxPnnq",
    "outputId": "938fabca-c411-4ee7-d5db-b9d8083f4c74"
   },
   "outputs": [],
   "source": [
    "# Exemple\n",
    "\n",
    "print(chr(76))\n",
    "print(ord('z'))"
   ]
  },
  {
   "cell_type": "markdown",
   "metadata": {
    "id": "G_VXQCiQPnns"
   },
   "source": [
    "## Exercici 1: chr\n",
    "\n",
    "Mira la taula de l'ASCII i amb la instrucció chr mostra la lletra t"
   ]
  },
  {
   "cell_type": "code",
   "execution_count": 1,
   "metadata": {},
   "outputs": [
    {
     "name": "stdout",
     "output_type": "stream",
     "text": [
      "t\n"
     ]
    }
   ],
   "source": [
    "print(chr(116))"
   ]
  },
  {
   "cell_type": "markdown",
   "metadata": {
    "id": "APyEAHW2Pnnt"
   },
   "source": [
    "## Exercici 2: ord\n",
    "\n",
    "Amb la instrucció ord, mostra el codi de la lletra m. Verifica'l a la taula ASCII. És el mateix que el de la M?"
   ]
  },
  {
   "cell_type": "code",
   "execution_count": 3,
   "metadata": {},
   "outputs": [
    {
     "name": "stdout",
     "output_type": "stream",
     "text": [
      "109\n"
     ]
    }
   ],
   "source": [
    "print(ord(\"m\"))"
   ]
  },
  {
   "cell_type": "markdown",
   "metadata": {
    "id": "lbtJPRe5Pnnu"
   },
   "source": [
    "## Cadenes de text (Strings)\n",
    "\n",
    "### Documentació Python de referència\n",
    "\n",
    "- An informal introduction to Python. strings: https://docs.python.org/3/tutorial/introduction.html?#strings\n",
    "- String methods: https://docs.python.org/3/library/stdtypes.html#string-methods"
   ]
  },
  {
   "cell_type": "markdown",
   "metadata": {
    "id": "jNQG9SYEPnnv"
   },
   "source": [
    "A Python el text s'emmagatzema en strings (o cadenes de text), que són una estructura de dades molt similar a les llistes en quant a què a cada caràcter li correspon un índex, podem fer slicing... la diferència més rellevant però és que no podem fer assignacions directes a posicions de la cadena."
   ]
  },
  {
   "cell_type": "code",
   "execution_count": 24,
   "metadata": {
    "id": "sow_fg9EPnnw",
    "outputId": "a93aefa8-9cba-4e51-d561-7953810873af"
   },
   "outputs": [
    {
     "name": "stdout",
     "output_type": "stream",
     "text": [
      "E\n",
      "Ella\n",
      "Eu\n",
      "ailàluE\n"
     ]
    }
   ],
   "source": [
    "# Exemple\n",
    "nom: str = \"Eulàlia\"\n",
    "print(nom[0])\n",
    "for i in range(0, len(nom), 2):\n",
    "    print(f\"{nom[i]}\", end = \"\")\n",
    "print()\n",
    "print(nom[0:2])\n",
    "print(nom[::-1])"
   ]
  },
  {
   "cell_type": "code",
   "execution_count": 25,
   "metadata": {
    "id": "IndJ5JkMPnny"
   },
   "outputs": [
    {
     "ename": "TypeError",
     "evalue": "'str' object does not support item assignment",
     "output_type": "error",
     "traceback": [
      "\u001b[31m---------------------------------------------------------------------------\u001b[39m",
      "\u001b[31mTypeError\u001b[39m                                 Traceback (most recent call last)",
      "\u001b[36mCell\u001b[39m\u001b[36m \u001b[39m\u001b[32mIn[25]\u001b[39m\u001b[32m, line 2\u001b[39m\n\u001b[32m      1\u001b[39m \u001b[38;5;66;03m# però...\u001b[39;00m\n\u001b[32m----> \u001b[39m\u001b[32m2\u001b[39m \u001b[43mnom\u001b[49m\u001b[43m[\u001b[49m\u001b[32;43m3\u001b[39;49m\u001b[43m]\u001b[49m = \u001b[33m\"\u001b[39m\u001b[33mr\u001b[39m\u001b[33m\"\u001b[39m\n",
      "\u001b[31mTypeError\u001b[39m: 'str' object does not support item assignment"
     ]
    }
   ],
   "source": [
    "# però...\n",
    "nom[3] = \"r\""
   ]
  },
  {
   "cell_type": "markdown",
   "metadata": {
    "id": "qCU6UC-GPnnz"
   },
   "source": [
    "## Mètodes i funcions per a les cadenes\n",
    "\n",
    "Com que les cadenes de caràcters són una de les dades bàsiques amb les que es treballa, coneixerem algunes funcions que ens resultaran molt útils per aquest curs introductori.\n",
    "\n",
    "### split \n",
    "\n",
    "Amb split puc separar una cadena en una llista amb els diferents trossets, indicant el separador."
   ]
  },
  {
   "cell_type": "code",
   "execution_count": 5,
   "metadata": {
    "id": "02NmiguOPnnz",
    "outputId": "d0f571f2-00b5-4bda-f517-50283c119986"
   },
   "outputs": [
    {
     "name": "stdout",
     "output_type": "stream",
     "text": [
      "['456', '342', '120€']\n"
     ]
    }
   ],
   "source": [
    "# Exemple\n",
    "cadena: str = \"456.342.120€\"\n",
    "llista: list[str] = cadena.split('.')\n",
    "print(llista)"
   ]
  },
  {
   "cell_type": "markdown",
   "metadata": {
    "id": "Um7tyouOPnn0"
   },
   "source": [
    "Si no indico un separador, per defecte és l'espai."
   ]
  },
  {
   "cell_type": "code",
   "execution_count": 6,
   "metadata": {
    "id": "ElatuHHWPnn1",
    "outputId": "0717983d-eb80-4f5f-a425-1e71625eec03"
   },
   "outputs": [
    {
     "name": "stdout",
     "output_type": "stream",
     "text": [
      "['El', 'gos,', 'i', 'el', 'gat,', 'menjàven', 'plegats.']\n"
     ]
    }
   ],
   "source": [
    "# Exemple\n",
    "cadena: str = \"El gos, i el gat, menjàven plegats.\"\n",
    "llista: list[str] = cadena.split()\n",
    "print(llista)"
   ]
  },
  {
   "cell_type": "markdown",
   "metadata": {
    "id": "tf0Rvc8nPnn1"
   },
   "source": [
    "### join \n",
    "\n",
    "Un dels usos més estesos de join consisteix en convertir llistes a cadenes de text."
   ]
  },
  {
   "cell_type": "code",
   "execution_count": 7,
   "metadata": {
    "id": "807b3GryPnn1",
    "outputId": "f64603d3-3551-4398-f91e-37985af84ad0"
   },
   "outputs": [
    {
     "name": "stdout",
     "output_type": "stream",
     "text": [
      "El gos, i el gat, menjàven plegats.\n"
     ]
    }
   ],
   "source": [
    "# Exemple\n",
    "llista: list[str] = ['El', 'gos,', 'i', 'el', 'gat,', 'menjàven', 'plegats.']\n",
    "cadena: str = \" \".join(llista)  # l'espai farà de separador\n",
    "print(cadena)"
   ]
  },
  {
   "cell_type": "markdown",
   "metadata": {
    "id": "82d-cpmMPnn2"
   },
   "source": [
    "### strip\n",
    "\n",
    "Elimina els caràcters indicats de l'inici i del final de la cadena, o els espais en blanc si no s'indiquen caràcters específics."
   ]
  },
  {
   "cell_type": "code",
   "execution_count": 8,
   "metadata": {
    "id": "dlY3w9OXPnn2",
    "outputId": "d6632af8-e29b-48c1-a6c7-1fddb89f3a7b"
   },
   "outputs": [
    {
     "data": {
      "text/plain": [
       "'troducció a Pyth'"
      ]
     },
     "execution_count": 8,
     "metadata": {},
     "output_type": "execute_result"
    }
   ],
   "source": [
    "# Exemple\n",
    "\"introducció a Python\".strip('nio')"
   ]
  },
  {
   "cell_type": "code",
   "execution_count": 26,
   "metadata": {
    "id": "bSRUBCB0Pnn2",
    "outputId": "01a18341-4278-47ed-ca7c-aafe213ee927"
   },
   "outputs": [
    {
     "data": {
      "text/plain": [
       "'introducció'"
      ]
     },
     "execution_count": 26,
     "metadata": {},
     "output_type": "execute_result"
    }
   ],
   "source": [
    "\" introducció   \".strip()"
   ]
  },
  {
   "cell_type": "markdown",
   "metadata": {
    "id": "ZSoLcMs4Pnn3"
   },
   "source": [
    "## Exercici 3: Parts d'un text\n",
    "    \n",
    "A partir de la cadena \"El gos i el gat es barallen al carrer\", amb operacions sobre strings aconsegueix els següents textos:\n",
    "\n",
    "- \"el\"\n",
    "- \"rerrac\"\n",
    "- \"l gs l gt s brlln l crrr\""
   ]
  },
  {
   "cell_type": "code",
   "execution_count": 136,
   "metadata": {},
   "outputs": [
    {
     "name": "stdout",
     "output_type": "stream",
     "text": [
      "El\n",
      "rerrac \n",
      "l gs  l gt s brlln l crrr\n"
     ]
    }
   ],
   "source": [
    "frase = \"El gos i el gat es barallen al carrer\"\n",
    "print(frase[:2])\n",
    "print(frase[:-8:-1])\n",
    "vocals = \"aeioAEIO\"\n",
    "resultat = ''.join(letra for letra in frase if letra not in vocals)\n",
    "print(resultat)"
   ]
  },
  {
   "cell_type": "markdown",
   "metadata": {
    "id": "ant1fKuWPnn3"
   },
   "source": [
    "## Exercici 4: Unir paraules\n",
    "\n",
    "Fes un programa que demani tres paraules d'una frase a l'usuari i crei una única cadena amb elles i la mostri a pantalla."
   ]
  },
  {
   "cell_type": "code",
   "execution_count": 64,
   "metadata": {},
   "outputs": [
    {
     "name": "stdout",
     "output_type": "stream",
     "text": [
      "cacahuetechoripanjuguete\n"
     ]
    }
   ],
   "source": [
    "def unir_paraules(paraula1:str,paraula2:str,paraula3:str):\n",
    "    print(paraula1 + paraula2 + paraula3)\n",
    "unir_paraules(\"cacahuete\",\"choripan\",\"juguete\")"
   ]
  },
  {
   "cell_type": "markdown",
   "metadata": {
    "id": "lkTz7AbrPnn3"
   },
   "source": [
    "### islower, isupper i isalpha\n",
    "\n",
    "Verifiquen si la cadena és majúscules, minúscules o tota de lletres respectivament.\n",
    "\n",
    "### lower i upper\n",
    "\n",
    "Converteixen la cadena de majúscules a minúscules i de minúscules a majúscules respectivament."
   ]
  },
  {
   "cell_type": "code",
   "execution_count": 65,
   "metadata": {
    "id": "OSKr_dc_Pnn3",
    "outputId": "1b7934ab-b286-49ae-f5c2-de963796d827"
   },
   "outputs": [
    {
     "data": {
      "text/plain": [
       "False"
      ]
     },
     "execution_count": 65,
     "metadata": {},
     "output_type": "execute_result"
    }
   ],
   "source": [
    "# Exemples\n",
    "\n",
    "\"HOLA\".islower()"
   ]
  },
  {
   "cell_type": "code",
   "execution_count": 66,
   "metadata": {
    "id": "aHoJxuENPnn4",
    "outputId": "e52171de-05c8-4c3a-9c09-4d5a55d893d6"
   },
   "outputs": [
    {
     "data": {
      "text/plain": [
       "True"
      ]
     },
     "execution_count": 66,
     "metadata": {},
     "output_type": "execute_result"
    }
   ],
   "source": [
    "\"HOLA\".isupper()"
   ]
  },
  {
   "cell_type": "code",
   "execution_count": 67,
   "metadata": {
    "id": "EQLNyrr5Pnn5",
    "outputId": "7dba64ea-3eb8-4610-d4d6-169eb8acea68"
   },
   "outputs": [
    {
     "data": {
      "text/plain": [
       "True"
      ]
     },
     "execution_count": 67,
     "metadata": {},
     "output_type": "execute_result"
    }
   ],
   "source": [
    "\"HOLA\".isalpha()"
   ]
  },
  {
   "cell_type": "code",
   "execution_count": 68,
   "metadata": {
    "id": "DjyGxS-UPnn5",
    "outputId": "6f3625ee-a121-4314-c23b-d56fdf42ff18"
   },
   "outputs": [
    {
     "data": {
      "text/plain": [
       "False"
      ]
     },
     "execution_count": 68,
     "metadata": {},
     "output_type": "execute_result"
    }
   ],
   "source": [
    "\"1HOLA\".isalpha()"
   ]
  },
  {
   "cell_type": "code",
   "execution_count": 69,
   "metadata": {
    "id": "XknQ7uBUPnn5",
    "outputId": "08731cfa-21b7-43fa-c233-409a0d9f623a"
   },
   "outputs": [
    {
     "name": "stdout",
     "output_type": "stream",
     "text": [
      "hola\n"
     ]
    }
   ],
   "source": [
    "s: str = \"HOLA\".lower()\n",
    "print(s)"
   ]
  },
  {
   "cell_type": "code",
   "execution_count": 70,
   "metadata": {
    "id": "rbzqSLJXPnn5",
    "outputId": "9d308d4a-a096-4299-abc2-83397751bedf"
   },
   "outputs": [
    {
     "name": "stdout",
     "output_type": "stream",
     "text": [
      "HOLA\n"
     ]
    }
   ],
   "source": [
    "t: str = \"Hola\".upper()\n",
    "print(t)"
   ]
  },
  {
   "cell_type": "markdown",
   "metadata": {
    "id": "xKRUuN0APnn6"
   },
   "source": [
    "## Exercici 5: Què és?\n",
    "\n",
    "Escriu un petit programa que verifiqui si un string de longitud 1 donat és una lletra (minúscula o majúscula) i no és un dígit."
   ]
  },
  {
   "cell_type": "code",
   "execution_count": 85,
   "metadata": {},
   "outputs": [
    {
     "name": "stdout",
     "output_type": "stream",
     "text": [
      "No és un caracter\n"
     ]
    }
   ],
   "source": [
    "def verificar_string(caracter:str):\n",
    "    if caracter.isalpha() == True:\n",
    "        if caracter.islower() == True:\n",
    "            print(\"És un caràcter en minúsculas\")\n",
    "        else:\n",
    "            print(\"És un caràcter en majúscules\")\n",
    "    else:\n",
    "        print(\"No és un caracter\")\n",
    "verificar_string(\"\")"
   ]
  },
  {
   "cell_type": "markdown",
   "metadata": {
    "id": "5k_AiY6XPnn6"
   },
   "source": [
    "## Exercici 6. Paraules en majúscules\n",
    "\n",
    "Volem fer un programa que, donat un string qualsevol, ens retorni les paraules en majúscules i amb el nombre de lletres, tal com s'indica a l'exemple."
   ]
  },
  {
   "cell_type": "code",
   "execution_count": 2,
   "metadata": {
    "id": "hpiD7gFLPnn6"
   },
   "outputs": [
    {
     "name": "stdout",
     "output_type": "stream",
     "text": [
      "UNA --> 3 lletres\n",
      "FRASE --> 5 lletres\n",
      "QUALSEVOL --> 9 lletres\n"
     ]
    }
   ],
   "source": [
    "def frase_llarga(st:str):\n",
    "    llista = st.split(\" \")\n",
    "    for i in llista:\n",
    "        print(f\"{i.upper()} --> {len(i)} lletres\")\n",
    "frase_llarga(\"Una frase qualsevol\")"
   ]
  },
  {
   "cell_type": "code",
   "execution_count": null,
   "metadata": {
    "id": "v2N7MnSQPnn6"
   },
   "outputs": [],
   "source": [
    "frase_llarga(\"Una frase qualsevol\")\n",
    "# Això hauria d'imprimir:\n",
    "\n",
    "# UNA --> 3 lletres\n",
    "# FRASE --> 5 lletres\n",
    "# QUALSEVOL --> 9 lletres"
   ]
  },
  {
   "cell_type": "markdown",
   "metadata": {
    "id": "CQHofitVPnn7"
   },
   "source": [
    "## Referències\n",
    "Les explicacions, exemples i exercicis s'han basat en les següents fonts:\n",
    "\n",
    "- Singh et al. “Time complexity of algorithms” dins Study tonight [http://www.studytonight.com/data-structures/time-complexity-of-algorithms] consultat el 26 de novembre de 2015\n",
    "- Umesh V. Vazirani “Chapter 2: divide and conquer algorithms” [https://www.cs.berkeley.edu/~vazirani/algorithms/chap2.pdf] consultat el 26 de novembre de 2015\n",
    "- Cormen, T. C., Leiserson, C. E., Rivest, R. L., & Stein, C. (2009). *Introduction to algorithms* (3rd ed.). Cambridge: The MIT Press. ISBN 9780262033848"
   ]
  }
 ],
 "metadata": {
  "colab": {
   "name": "Cadenes.ipynb",
   "provenance": []
  },
  "kernelspec": {
   "display_name": "Python 3",
   "language": "python",
   "name": "python3"
  },
  "language_info": {
   "codemirror_mode": {
    "name": "ipython",
    "version": 3
   },
   "file_extension": ".py",
   "mimetype": "text/x-python",
   "name": "python",
   "nbconvert_exporter": "python",
   "pygments_lexer": "ipython3",
   "version": "3.11.1"
  }
 },
 "nbformat": 4,
 "nbformat_minor": 4
}
