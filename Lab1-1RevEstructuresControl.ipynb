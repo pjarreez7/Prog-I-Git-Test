{
 "cells": [
  {
   "cell_type": "markdown",
   "metadata": {
    "id": "n10Jh7mA-giL"
   },
   "source": [
    "\n",
    "<div id=\"capcalera\">\n",
    "<p >Aquest notebook complementa els continguts teòrics de l'assignatura d'<strong>Algorísmica</strong> del Grau d'Enginyeria Informàtica a la <a href=\"https://mat.ub.edu\">Facultat de Matemàtiques i Informàtica</a> de la <a href=\"https://www.ub.edu\">Universitat de Barcelona</a></p>\n",
    "\n",
    "<p>Els problemes s'ofereixen sota llicència <a href=\"https://creativecommons.org/licenses/by-nc-nd/3.0/us/legalcode\">CC-BY-NC-ND license</a>, i el codi sota <a href=\"https://opensource.org/licenses/MIT\">Llicència MIT</a>.</p>\n",
    "\n",
    "</div>"
   ]
  },
  {
   "cell_type": "markdown",
   "metadata": {
    "id": "OoRwBSqO-giN"
   },
   "source": [
    "# Python: Revisió de les estructures de control: condicionals i iteracions"
   ]
  },
  {
   "cell_type": "markdown",
   "metadata": {
    "id": "eS_dPbRI-giO"
   },
   "source": [
    "## Introducció\n",
    "\n",
    "Les estructures de control ens permeten alterar la seqüència d'execució de les instruccions d'un programa. Sense elles els programes s'executarien sempre línia a línia."
   ]
  },
  {
   "cell_type": "markdown",
   "metadata": {
    "id": "NMErr6Kv-giO"
   },
   "source": [
    "## Condicionals: if, elif, else\n",
    "\n",
    "Podem decidir quin codi executar a partir d’una comprovació amb if, elif i else. \n",
    "\n",
    "El codi primer avaluarà la condició de l’if, i si es compleix executarà el codi identat a continuació. Si no es compleix passarà a avaluar la condició de l’elif (poden haver tants elifs com siguin necessaris o pot no haver-n'hi cap), i així fins a que cap es compleixi, cas en el què s’executaran les instruccions de l’else."
   ]
  },
  {
   "cell_type": "code",
   "execution_count": null,
   "metadata": {
    "id": "0QdwPklS-giP",
    "outputId": "8264c434-fa1a-4f73-ffec-b8ca109a763f"
   },
   "outputs": [],
   "source": [
    "# Exemple\n",
    "a: int = 5\n",
    "if a > 4:\n",
    "    print(\"a és major que 4\")\n",
    "elif a > 2:\n",
    "    print(\"a és major que 2 i igual o menor que 4\")\n",
    "else:\n",
    "    print(\"a és igual o menor que 2\")\n",
    "\n",
    "# Prova el mateix exemple canviant el valor d'a per a = 3 i per a = 1"
   ]
  },
  {
   "cell_type": "markdown",
   "metadata": {
    "id": "geDfuEgX-giS"
   },
   "source": [
    "## Iteracions for i while\n",
    "\n",
    "Les iteracions són estructures que ens permeten repetir un conjunt d’instruccions amb diferents valors.\n",
    "La repetició ve determinada bé pel compliment d'una condició (while) o per un rang de valors a recorrer (for)."
   ]
  },
  {
   "cell_type": "code",
   "execution_count": null,
   "metadata": {
    "id": "Sh1bJkgd-giT",
    "outputId": "d21fdd3b-66cc-4fd7-d5f5-5aa999ce40d6"
   },
   "outputs": [],
   "source": [
    "# Exemple\n",
    "a: int = 1\n",
    "while a < 5:\n",
    "    print(a)\n",
    "    a += 1  # En Python l'operació d'autoincrement s'escriu així\n",
    "\n",
    "# Prova el mateix exemple canviant el valor de la condició per 3 i del valor inicial d'a per 4"
   ]
  },
  {
   "cell_type": "code",
   "execution_count": null,
   "metadata": {
    "id": "KPpX66jN-giU"
   },
   "outputs": [],
   "source": [
    "# Exemple2\n",
    "a: int = 3\n",
    "while a < 13:\n",
    "    print(a)\n",
    "    a += 3  # En Python l'operació d'autoincrement s'escriu així\n"
   ]
  },
  {
   "cell_type": "code",
   "execution_count": null,
   "metadata": {
    "id": "9v2gq7Si-giU"
   },
   "outputs": [],
   "source": [
    "# Exemple3: atenció abans d'executar-lo pensa què farà\n",
    "a: int = 3\n",
    "while a < 13:\n",
    "    print(a)"
   ]
  },
  {
   "cell_type": "markdown",
   "metadata": {
    "id": "doVOeEmb-giV"
   },
   "source": [
    "### Iteració while\n",
    "\n",
    "A la iteració while establim una condició de sortida. Mentre la condició sigui certa, les instruccions dins la iteració s'aniran repetint.\n",
    "\n",
    "Per tant és molt important verificar que la condició varia, ja sigui per l'entrada de l'usuari o perquè el codi incrementa la variable de la condició. Altrament podem crear bucles infinits que no acabaran mai.\n",
    "\n",
    "Aquest tipus d'iteració s'usa quan en temps de programació no es coneix en quin moment cal acabar la repetició d'instruccions, i sol relacionar-se amb la cerca d'un valor determinat."
   ]
  },
  {
   "cell_type": "code",
   "execution_count": null,
   "metadata": {
    "id": "KMUdWOHS-giV",
    "outputId": "45a3dc26-4326-4a23-b27f-acbd362f8889"
   },
   "outputs": [],
   "source": [
    "a: int = int(input(\"Introdueix un nombre menor que 5: \"))\n",
    "\n",
    "while a >= 5:\n",
    "    print(\"El nombre introduït no és menor que 5\")\n",
    "    a = int(input(\"Introdueix un nombre menor que 5: \"))\n",
    "\n",
    "print(\"Molt bé,\", a, \"és menor que 5\")\n",
    "# prova diverses execucions del codi"
   ]
  },
  {
   "cell_type": "markdown",
   "metadata": {
    "id": "0IacfXrH-giW"
   },
   "source": [
    "### Iteració for\n",
    "\n",
    "A la iteració for hi ha una variable que va prenent valors dins un rang. Aquesta variable pot ser numèrica però també pot ser de qualsevol altre tipus si el rang és una llista d'aquest tipus.\n",
    "\n",
    "Si s'usa una variable numèrica se sol definir el valor inicial (start), el valor final (stop) i l'increment a cada iteració (step). \n",
    "\n",
    "Aquest tipus d'iteració s'usa quan en temps de programació es coneix exactament quan es començarà i quan s'acabarà el recorregut, i sol  associar-se a recorreguts.\n"
   ]
  },
  {
   "cell_type": "code",
   "execution_count": null,
   "metadata": {
    "id": "3SxG-wP_-giX",
    "outputId": "c43b2312-226b-4ae9-85a5-1e4ca95b4130"
   },
   "outputs": [],
   "source": [
    "# Exemple 1\n",
    "for i in range(0, 10):  # start: 0, stop: 10, step: 1 per defecte\n",
    "    print(i)"
   ]
  },
  {
   "cell_type": "markdown",
   "metadata": {
    "id": "cn3-hG1i-giX"
   },
   "source": [
    "Fixeu-vos que el 10 no es mostra, ja que quan arriba a 10 surt de la iteració."
   ]
  },
  {
   "cell_type": "code",
   "execution_count": null,
   "metadata": {
    "id": "MJ5PwIBG-giX",
    "outputId": "1354ca96-c7b6-4273-ed64-a0b379bfe20c"
   },
   "outputs": [],
   "source": [
    "# Exemple 2\n",
    "for i in range(5):\n",
    "    print(i) "
   ]
  },
  {
   "cell_type": "markdown",
   "metadata": {},
   "source": [
    "Quant val start, stop i step?"
   ]
  },
  {
   "cell_type": "code",
   "execution_count": null,
   "metadata": {
    "id": "th74irr--giY",
    "outputId": "e36eb3a3-a7f1-4cd9-d2f4-6e75c7788e88"
   },
   "outputs": [],
   "source": [
    "# Exemple 3\n",
    "for i in range(2, 6):\n",
    "    print(i)"
   ]
  },
  {
   "cell_type": "markdown",
   "metadata": {},
   "source": [
    "Quant val start, stop i step?"
   ]
  },
  {
   "cell_type": "code",
   "execution_count": null,
   "metadata": {
    "id": "qHrYyMTZ-giY",
    "outputId": "d2a91268-0566-4109-ab75-c30495227251"
   },
   "outputs": [],
   "source": [
    "# Exemple 4\n",
    "for j in range(10, 40, 5):\n",
    "    print(j)    "
   ]
  },
  {
   "cell_type": "markdown",
   "metadata": {},
   "source": [
    "Quant val start, stop i step?"
   ]
  },
  {
   "cell_type": "code",
   "execution_count": null,
   "metadata": {
    "id": "YymMkOF8-giZ",
    "outputId": "956c4271-7394-4a35-b876-08e897210602"
   },
   "outputs": [],
   "source": [
    "# Exemple 5\n",
    "for i in range(0, 10, 2):  \n",
    "    print(i)"
   ]
  },
  {
   "cell_type": "markdown",
   "metadata": {},
   "source": [
    "Quant val start, stop i step?"
   ]
  },
  {
   "cell_type": "code",
   "execution_count": null,
   "metadata": {
    "id": "QvHsSzSm-gia"
   },
   "outputs": [],
   "source": [
    "# Exemple 6\n",
    "for i in range(10, 0, -5):  # start: 10, stop: 0 (no inclou el 0), step: -5\n",
    "    print(i)\n",
    "# Abans d'executar el codi, pensa quin resultat apareixerà"
   ]
  },
  {
   "cell_type": "code",
   "execution_count": null,
   "metadata": {
    "id": "1PlyQEk1-gia"
   },
   "outputs": [],
   "source": [
    "# Exemple 1\n",
    "animals: list[str] = [\"gat\", \"gos\", \"canari\"]\n",
    "\n",
    "for animal in animals:\n",
    "    print(animal)\n",
    "# En aquest cas la variable, \"animal\", va prenent els valors dins la llista"
   ]
  },
  {
   "cell_type": "markdown",
   "metadata": {
    "id": "aTjND6JN-gia"
   },
   "source": [
    "### Inicialització i valors finals\n",
    "\n",
    "Quan usem iteracions sovint hem de pensar a inicialitzar algunes variables abans d'entrar a la iteració, i a tractar els casos finals després de sortir-ne."
   ]
  },
  {
   "cell_type": "markdown",
   "metadata": {
    "id": "e_X_s2Cu-gib"
   },
   "source": [
    "### <span class=\"exercici\">Exercici 1: de for a while</span>\n",
    "\n",
    "Reescriu la següent iteració amb una iteració while"
   ]
  },
  {
   "cell_type": "code",
   "execution_count": null,
   "metadata": {
    "id": "y81w38IG-gib",
    "outputId": "cb8a74a3-548f-46f7-d3cf-97f042db1dfe"
   },
   "outputs": [
    {
     "name": "stdout",
     "output_type": "stream",
     "text": [
      "4\n",
      "6\n",
      "8\n"
     ]
    }
   ],
   "source": [
    "for i in range(4, 10, 2):\n",
    "    print(i)"
   ]
  },
  {
   "cell_type": "code",
   "execution_count": 5,
   "metadata": {
    "id": "tdQcb0On-gic"
   },
   "outputs": [
    {
     "name": "stdout",
     "output_type": "stream",
     "text": [
      "4\n",
      "6\n",
      "8\n"
     ]
    }
   ],
   "source": [
    "i = 2\n",
    "while i<8:\n",
    "    i = i+2\n",
    "    print(i)"
   ]
  },
  {
   "cell_type": "markdown",
   "metadata": {},
   "source": [
    "Quina estructura t'ha semblat més adient per aquest problema (for o while)? Perquè?"
   ]
  }
 ],
 "metadata": {
  "colab": {
   "name": "Control.ipynb",
   "provenance": []
  },
  "kernelspec": {
   "display_name": "Python 3",
   "language": "python",
   "name": "python3"
  },
  "language_info": {
   "codemirror_mode": {
    "name": "ipython",
    "version": 3
   },
   "file_extension": ".py",
   "mimetype": "text/x-python",
   "name": "python",
   "nbconvert_exporter": "python",
   "pygments_lexer": "ipython3",
   "version": "3.11.1"
  }
 },
 "nbformat": 4,
 "nbformat_minor": 4
}
